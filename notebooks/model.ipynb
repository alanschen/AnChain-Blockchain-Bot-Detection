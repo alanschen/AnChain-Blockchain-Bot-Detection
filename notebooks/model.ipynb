{
  "nbformat": 4,
  "nbformat_minor": 0,
  "metadata": {
    "colab": {
      "name": "Model1 Bot Detection.ipynb",
      "provenance": [],
      "collapsed_sections": []
    },
    "kernelspec": {
      "name": "python3",
      "display_name": "Python 3"
    }
  },
  "cells": [
    {
      "cell_type": "code",
      "metadata": {
        "id": "brkFzRbHYQ6e",
        "colab": {
          "base_uri": "https://localhost:8080/"
        },
        "outputId": "6d2059d5-5c4b-4c67-f681-bca423a8ceae"
      },
      "source": [
        "from google.colab import drive\n",
        "drive.mount('/content/gdrive', force_remount=True)\n",
        "%cd gdrive/'My Drive'"
      ],
      "execution_count": 1,
      "outputs": [
        {
          "output_type": "stream",
          "text": [
            "Mounted at /content/gdrive\n",
            "/content/gdrive/My Drive\n"
          ],
          "name": "stdout"
        }
      ]
    },
    {
      "cell_type": "markdown",
      "metadata": {
        "id": "zIgR8tMh58_V"
      },
      "source": [
        "1. Import correctly labeled data and corresponding summary data."
      ]
    },
    {
      "cell_type": "code",
      "metadata": {
        "id": "Cew97eX-hMGU"
      },
      "source": [
        "import pandas as pd\n",
        "from os import path\n",
        "import os, zipfile\n",
        "\n",
        "from sklearn.pipeline import Pipeline, make_pipeline\n",
        "from sklearn.preprocessing import StandardScaler, OneHotEncoder, KBinsDiscretizer, FunctionTransformer\n",
        "from sklearn.compose import ColumnTransformer\n",
        "from sklearn.model_selection import train_test_split\n",
        "\n",
        "from sklearn.linear_model import LogisticRegression\n",
        "from sklearn.svm import SVC, LinearSVC\n",
        "from sklearn.ensemble import RandomForestClassifier\n",
        "from sklearn.neighbors import KNeighborsClassifier\n",
        "from sklearn.naive_bayes import GaussianNB\n",
        "from sklearn.linear_model import Perceptron\n",
        "from sklearn.linear_model import SGDClassifier\n",
        "from sklearn.tree import DecisionTreeClassifier"
      ],
      "execution_count": 2,
      "outputs": []
    },
    {
      "cell_type": "code",
      "metadata": {
        "id": "RaUVaOMQYqfl",
        "colab": {
          "base_uri": "https://localhost:8080/",
          "height": 294
        },
        "outputId": "4d9239e9-6812-4613-c86d-f429ac5c7ca5"
      },
      "source": [
        "#Load bots with easy patterns in obvious_bots. \n",
        "obvious_bots = pd.read_csv('https://raw.githubusercontent.com/griffinbaum22/bot_detection/main/obvious_bots').obvious_bots.values\n",
        "user_df = pd.read_csv('https://raw.githubusercontent.com/griffinbaum22/bot_detection/main/user_df').drop(columns= 'Unnamed: 0')\n",
        "user_df.describe()"
      ],
      "execution_count": 8,
      "outputs": [
        {
          "output_type": "execute_result",
          "data": {
            "text/html": [
              "<div>\n",
              "<style scoped>\n",
              "    .dataframe tbody tr th:only-of-type {\n",
              "        vertical-align: middle;\n",
              "    }\n",
              "\n",
              "    .dataframe tbody tr th {\n",
              "        vertical-align: top;\n",
              "    }\n",
              "\n",
              "    .dataframe thead th {\n",
              "        text-align: right;\n",
              "    }\n",
              "</style>\n",
              "<table border=\"1\" class=\"dataframe\">\n",
              "  <thead>\n",
              "    <tr style=\"text-align: right;\">\n",
              "      <th></th>\n",
              "      <th>total_trxs</th>\n",
              "      <th>total_wins</th>\n",
              "      <th>win_ratio</th>\n",
              "      <th>total_bet</th>\n",
              "      <th>total_recieved</th>\n",
              "      <th>net_profit</th>\n",
              "      <th>days_active</th>\n",
              "      <th>unique_hrs_active</th>\n",
              "      <th>avg_hrs_active</th>\n",
              "      <th>avg_bet_size</th>\n",
              "    </tr>\n",
              "  </thead>\n",
              "  <tbody>\n",
              "    <tr>\n",
              "      <th>count</th>\n",
              "      <td>1657.000000</td>\n",
              "      <td>1657.000000</td>\n",
              "      <td>1657.000000</td>\n",
              "      <td>1657.000000</td>\n",
              "      <td>1657.000000</td>\n",
              "      <td>1657.000000</td>\n",
              "      <td>1657.000000</td>\n",
              "      <td>1657.000000</td>\n",
              "      <td>1657.000000</td>\n",
              "      <td>1657.000000</td>\n",
              "    </tr>\n",
              "    <tr>\n",
              "      <th>mean</th>\n",
              "      <td>459.931201</td>\n",
              "      <td>402.042849</td>\n",
              "      <td>0.855654</td>\n",
              "      <td>664.813015</td>\n",
              "      <td>670.873814</td>\n",
              "      <td>6.060799</td>\n",
              "      <td>19.680145</td>\n",
              "      <td>2.792396</td>\n",
              "      <td>1.313612</td>\n",
              "      <td>5.114451</td>\n",
              "    </tr>\n",
              "    <tr>\n",
              "      <th>std</th>\n",
              "      <td>8061.353947</td>\n",
              "      <td>7637.514270</td>\n",
              "      <td>0.226804</td>\n",
              "      <td>6579.566037</td>\n",
              "      <td>6286.401623</td>\n",
              "      <td>695.669483</td>\n",
              "      <td>13.950319</td>\n",
              "      <td>3.368168</td>\n",
              "      <td>1.197422</td>\n",
              "      <td>69.715415</td>\n",
              "    </tr>\n",
              "    <tr>\n",
              "      <th>min</th>\n",
              "      <td>1.000000</td>\n",
              "      <td>0.000000</td>\n",
              "      <td>0.000000</td>\n",
              "      <td>0.000100</td>\n",
              "      <td>0.000000</td>\n",
              "      <td>-17244.700900</td>\n",
              "      <td>1.000000</td>\n",
              "      <td>1.000000</td>\n",
              "      <td>1.000000</td>\n",
              "      <td>0.000100</td>\n",
              "    </tr>\n",
              "    <tr>\n",
              "      <th>25%</th>\n",
              "      <td>16.000000</td>\n",
              "      <td>11.000000</td>\n",
              "      <td>0.875000</td>\n",
              "      <td>3.200000</td>\n",
              "      <td>2.989900</td>\n",
              "      <td>-0.210100</td>\n",
              "      <td>2.000000</td>\n",
              "      <td>2.000000</td>\n",
              "      <td>1.000000</td>\n",
              "      <td>0.100000</td>\n",
              "    </tr>\n",
              "    <tr>\n",
              "      <th>50%</th>\n",
              "      <td>32.000000</td>\n",
              "      <td>30.000000</td>\n",
              "      <td>0.937500</td>\n",
              "      <td>3.200000</td>\n",
              "      <td>3.196100</td>\n",
              "      <td>-0.003900</td>\n",
              "      <td>31.000000</td>\n",
              "      <td>2.000000</td>\n",
              "      <td>1.032258</td>\n",
              "      <td>0.100000</td>\n",
              "    </tr>\n",
              "    <tr>\n",
              "      <th>75%</th>\n",
              "      <td>32.000000</td>\n",
              "      <td>31.000000</td>\n",
              "      <td>0.968750</td>\n",
              "      <td>3.200000</td>\n",
              "      <td>3.299200</td>\n",
              "      <td>0.099200</td>\n",
              "      <td>31.000000</td>\n",
              "      <td>2.000000</td>\n",
              "      <td>1.032258</td>\n",
              "      <td>0.247200</td>\n",
              "    </tr>\n",
              "    <tr>\n",
              "      <th>max</th>\n",
              "      <td>254893.000000</td>\n",
              "      <td>242135.000000</td>\n",
              "      <td>1.000000</td>\n",
              "      <td>186814.971600</td>\n",
              "      <td>177763.788500</td>\n",
              "      <td>11860.576600</td>\n",
              "      <td>31.000000</td>\n",
              "      <td>24.000000</td>\n",
              "      <td>23.967742</td>\n",
              "      <td>2458.611313</td>\n",
              "    </tr>\n",
              "  </tbody>\n",
              "</table>\n",
              "</div>"
            ],
            "text/plain": [
              "          total_trxs     total_wins  ...  avg_hrs_active  avg_bet_size\n",
              "count    1657.000000    1657.000000  ...     1657.000000   1657.000000\n",
              "mean      459.931201     402.042849  ...        1.313612      5.114451\n",
              "std      8061.353947    7637.514270  ...        1.197422     69.715415\n",
              "min         1.000000       0.000000  ...        1.000000      0.000100\n",
              "25%        16.000000      11.000000  ...        1.000000      0.100000\n",
              "50%        32.000000      30.000000  ...        1.032258      0.100000\n",
              "75%        32.000000      31.000000  ...        1.032258      0.247200\n",
              "max    254893.000000  242135.000000  ...       23.967742   2458.611313\n",
              "\n",
              "[8 rows x 10 columns]"
            ]
          },
          "metadata": {
            "tags": []
          },
          "execution_count": 8
        }
      ]
    },
    {
      "cell_type": "code",
      "metadata": {
        "id": "D0dMNGFbqLL-",
        "colab": {
          "base_uri": "https://localhost:8080/",
          "height": 415
        },
        "outputId": "b75678d6-7ca0-418f-8b4b-cd698e8e7ba6"
      },
      "source": [
        "# Load research data with reliable labels in labels.\n",
        "column_names = ['user', 'detection']\n",
        "reliable_labels = pd.read_csv('reliable-labels.csv', names=column_names)\n",
        "reliable_labels"
      ],
      "execution_count": 10,
      "outputs": [
        {
          "output_type": "execute_result",
          "data": {
            "text/html": [
              "<div>\n",
              "<style scoped>\n",
              "    .dataframe tbody tr th:only-of-type {\n",
              "        vertical-align: middle;\n",
              "    }\n",
              "\n",
              "    .dataframe tbody tr th {\n",
              "        vertical-align: top;\n",
              "    }\n",
              "\n",
              "    .dataframe thead th {\n",
              "        text-align: right;\n",
              "    }\n",
              "</style>\n",
              "<table border=\"1\" class=\"dataframe\">\n",
              "  <thead>\n",
              "    <tr style=\"text-align: right;\">\n",
              "      <th></th>\n",
              "      <th>user</th>\n",
              "      <th>detection</th>\n",
              "    </tr>\n",
              "  </thead>\n",
              "  <tbody>\n",
              "    <tr>\n",
              "      <th>0</th>\n",
              "      <td>gu3dimzvguge</td>\n",
              "      <td>bot</td>\n",
              "    </tr>\n",
              "    <tr>\n",
              "      <th>1</th>\n",
              "      <td>g42tgmbshege</td>\n",
              "      <td>bot</td>\n",
              "    </tr>\n",
              "    <tr>\n",
              "      <th>2</th>\n",
              "      <td>jixiango3133</td>\n",
              "      <td>bot</td>\n",
              "    </tr>\n",
              "    <tr>\n",
              "      <th>3</th>\n",
              "      <td>guydknzsgege</td>\n",
              "      <td>bot</td>\n",
              "    </tr>\n",
              "    <tr>\n",
              "      <th>4</th>\n",
              "      <td>gyztqnjwg4ge</td>\n",
              "      <td>bot</td>\n",
              "    </tr>\n",
              "    <tr>\n",
              "      <th>...</th>\n",
              "      <td>...</td>\n",
              "      <td>...</td>\n",
              "    </tr>\n",
              "    <tr>\n",
              "      <th>1178</th>\n",
              "      <td>afd4ctrpcer1</td>\n",
              "      <td>bot</td>\n",
              "    </tr>\n",
              "    <tr>\n",
              "      <th>1179</th>\n",
              "      <td>beirwpuugtkm</td>\n",
              "      <td>bot</td>\n",
              "    </tr>\n",
              "    <tr>\n",
              "      <th>1180</th>\n",
              "      <td>ycdzhtpheges</td>\n",
              "      <td>bot</td>\n",
              "    </tr>\n",
              "    <tr>\n",
              "      <th>1181</th>\n",
              "      <td>4lp3gnxrbfyc</td>\n",
              "      <td>bot</td>\n",
              "    </tr>\n",
              "    <tr>\n",
              "      <th>1182</th>\n",
              "      <td>cuizhi123451</td>\n",
              "      <td>bot</td>\n",
              "    </tr>\n",
              "  </tbody>\n",
              "</table>\n",
              "<p>1183 rows × 2 columns</p>\n",
              "</div>"
            ],
            "text/plain": [
              "              user detection\n",
              "0     gu3dimzvguge       bot\n",
              "1     g42tgmbshege       bot\n",
              "2     jixiango3133       bot\n",
              "3     guydknzsgege       bot\n",
              "4     gyztqnjwg4ge       bot\n",
              "...            ...       ...\n",
              "1178  afd4ctrpcer1       bot\n",
              "1179  beirwpuugtkm       bot\n",
              "1180  ycdzhtpheges       bot\n",
              "1181  4lp3gnxrbfyc       bot\n",
              "1182  cuizhi123451       bot\n",
              "\n",
              "[1183 rows x 2 columns]"
            ]
          },
          "metadata": {
            "tags": []
          },
          "execution_count": 10
        }
      ]
    },
    {
      "cell_type": "code",
      "metadata": {
        "id": "Dba23n1_c1LY",
        "colab": {
          "base_uri": "https://localhost:8080/",
          "height": 519
        },
        "outputId": "a42fd6e9-9e11-4272-a408-705ee3628128"
      },
      "source": [
        "# Combine realiable_labels with obvious_bots in combined1. \n",
        "combined1 = user_df.loc[user_df.name.isin(reliable_labels.user.values)]\n",
        "combined1['detection'] = combined1.name.apply(lambda user: reliable_labels.loc[reliable_labels.user == user, 'detection'].values[0])\n",
        "combined1"
      ],
      "execution_count": 11,
      "outputs": [
        {
          "output_type": "stream",
          "text": [
            "/usr/local/lib/python3.6/dist-packages/ipykernel_launcher.py:3: SettingWithCopyWarning: \n",
            "A value is trying to be set on a copy of a slice from a DataFrame.\n",
            "Try using .loc[row_indexer,col_indexer] = value instead\n",
            "\n",
            "See the caveats in the documentation: https://pandas.pydata.org/pandas-docs/stable/user_guide/indexing.html#returning-a-view-versus-a-copy\n",
            "  This is separate from the ipykernel package so we can avoid doing imports until\n"
          ],
          "name": "stderr"
        },
        {
          "output_type": "execute_result",
          "data": {
            "text/html": [
              "<div>\n",
              "<style scoped>\n",
              "    .dataframe tbody tr th:only-of-type {\n",
              "        vertical-align: middle;\n",
              "    }\n",
              "\n",
              "    .dataframe tbody tr th {\n",
              "        vertical-align: top;\n",
              "    }\n",
              "\n",
              "    .dataframe thead th {\n",
              "        text-align: right;\n",
              "    }\n",
              "</style>\n",
              "<table border=\"1\" class=\"dataframe\">\n",
              "  <thead>\n",
              "    <tr style=\"text-align: right;\">\n",
              "      <th></th>\n",
              "      <th>name</th>\n",
              "      <th>total_trxs</th>\n",
              "      <th>total_wins</th>\n",
              "      <th>win_ratio</th>\n",
              "      <th>total_bet</th>\n",
              "      <th>total_recieved</th>\n",
              "      <th>net_profit</th>\n",
              "      <th>days_active</th>\n",
              "      <th>unique_hrs_active</th>\n",
              "      <th>avg_hrs_active</th>\n",
              "      <th>avg_bet_size</th>\n",
              "      <th>detection</th>\n",
              "    </tr>\n",
              "  </thead>\n",
              "  <tbody>\n",
              "    <tr>\n",
              "      <th>7</th>\n",
              "      <td>zhaowenyoung</td>\n",
              "      <td>1</td>\n",
              "      <td>1.0</td>\n",
              "      <td>1.000000</td>\n",
              "      <td>0.1000</td>\n",
              "      <td>0.1031</td>\n",
              "      <td>0.0031</td>\n",
              "      <td>1</td>\n",
              "      <td>1</td>\n",
              "      <td>1.000000</td>\n",
              "      <td>0.100000</td>\n",
              "      <td>bot</td>\n",
              "    </tr>\n",
              "    <tr>\n",
              "      <th>8</th>\n",
              "      <td>sourceeoseos</td>\n",
              "      <td>1</td>\n",
              "      <td>1.0</td>\n",
              "      <td>1.000000</td>\n",
              "      <td>0.1000</td>\n",
              "      <td>0.1031</td>\n",
              "      <td>0.0031</td>\n",
              "      <td>1</td>\n",
              "      <td>1</td>\n",
              "      <td>1.000000</td>\n",
              "      <td>0.100000</td>\n",
              "      <td>bot</td>\n",
              "    </tr>\n",
              "    <tr>\n",
              "      <th>11</th>\n",
              "      <td>hchn12345432</td>\n",
              "      <td>1</td>\n",
              "      <td>1.0</td>\n",
              "      <td>1.000000</td>\n",
              "      <td>0.1000</td>\n",
              "      <td>0.1884</td>\n",
              "      <td>0.0884</td>\n",
              "      <td>1</td>\n",
              "      <td>1</td>\n",
              "      <td>1.000000</td>\n",
              "      <td>0.100000</td>\n",
              "      <td>bot</td>\n",
              "    </tr>\n",
              "    <tr>\n",
              "      <th>12</th>\n",
              "      <td>shadowalker3</td>\n",
              "      <td>1</td>\n",
              "      <td>1.0</td>\n",
              "      <td>1.000000</td>\n",
              "      <td>0.1000</td>\n",
              "      <td>0.1101</td>\n",
              "      <td>0.0101</td>\n",
              "      <td>1</td>\n",
              "      <td>1</td>\n",
              "      <td>1.000000</td>\n",
              "      <td>0.100000</td>\n",
              "      <td>bot</td>\n",
              "    </tr>\n",
              "    <tr>\n",
              "      <th>14</th>\n",
              "      <td>zjgzjhshy123</td>\n",
              "      <td>1</td>\n",
              "      <td>1.0</td>\n",
              "      <td>1.000000</td>\n",
              "      <td>0.1000</td>\n",
              "      <td>4425.8081</td>\n",
              "      <td>4425.7081</td>\n",
              "      <td>1</td>\n",
              "      <td>1</td>\n",
              "      <td>1.000000</td>\n",
              "      <td>0.100000</td>\n",
              "      <td>bot</td>\n",
              "    </tr>\n",
              "    <tr>\n",
              "      <th>...</th>\n",
              "      <td>...</td>\n",
              "      <td>...</td>\n",
              "      <td>...</td>\n",
              "      <td>...</td>\n",
              "      <td>...</td>\n",
              "      <td>...</td>\n",
              "      <td>...</td>\n",
              "      <td>...</td>\n",
              "      <td>...</td>\n",
              "      <td>...</td>\n",
              "      <td>...</td>\n",
              "      <td>...</td>\n",
              "    </tr>\n",
              "    <tr>\n",
              "      <th>1634</th>\n",
              "      <td>gy3tamrxgqge</td>\n",
              "      <td>3838</td>\n",
              "      <td>3637.0</td>\n",
              "      <td>0.947629</td>\n",
              "      <td>1849.4000</td>\n",
              "      <td>1813.2541</td>\n",
              "      <td>-36.1459</td>\n",
              "      <td>3</td>\n",
              "      <td>10</td>\n",
              "      <td>3.333333</td>\n",
              "      <td>0.360544</td>\n",
              "      <td>bot</td>\n",
              "    </tr>\n",
              "    <tr>\n",
              "      <th>1640</th>\n",
              "      <td>g44dmnrxg4ge</td>\n",
              "      <td>5791</td>\n",
              "      <td>4236.0</td>\n",
              "      <td>0.731480</td>\n",
              "      <td>108699.5978</td>\n",
              "      <td>99322.5100</td>\n",
              "      <td>-9377.0878</td>\n",
              "      <td>26</td>\n",
              "      <td>19</td>\n",
              "      <td>4.423077</td>\n",
              "      <td>26.704593</td>\n",
              "      <td>bot</td>\n",
              "    </tr>\n",
              "    <tr>\n",
              "      <th>1641</th>\n",
              "      <td>g44temrwgage</td>\n",
              "      <td>5922</td>\n",
              "      <td>3421.0</td>\n",
              "      <td>0.577676</td>\n",
              "      <td>41020.3531</td>\n",
              "      <td>41024.0871</td>\n",
              "      <td>3.7340</td>\n",
              "      <td>16</td>\n",
              "      <td>21</td>\n",
              "      <td>4.187500</td>\n",
              "      <td>3.576469</td>\n",
              "      <td>bot</td>\n",
              "    </tr>\n",
              "    <tr>\n",
              "      <th>1644</th>\n",
              "      <td>stardlullaby</td>\n",
              "      <td>7464</td>\n",
              "      <td>6611.0</td>\n",
              "      <td>0.885718</td>\n",
              "      <td>6016.6742</td>\n",
              "      <td>6120.0951</td>\n",
              "      <td>103.4209</td>\n",
              "      <td>10</td>\n",
              "      <td>17</td>\n",
              "      <td>4.800000</td>\n",
              "      <td>1.143940</td>\n",
              "      <td>bot</td>\n",
              "    </tr>\n",
              "    <tr>\n",
              "      <th>1651</th>\n",
              "      <td>g4ztemjugyge</td>\n",
              "      <td>12963</td>\n",
              "      <td>2705.0</td>\n",
              "      <td>0.208671</td>\n",
              "      <td>2094.2005</td>\n",
              "      <td>1993.8956</td>\n",
              "      <td>-100.3049</td>\n",
              "      <td>21</td>\n",
              "      <td>24</td>\n",
              "      <td>2.952381</td>\n",
              "      <td>0.159667</td>\n",
              "      <td>bot</td>\n",
              "    </tr>\n",
              "  </tbody>\n",
              "</table>\n",
              "<p>1169 rows × 12 columns</p>\n",
              "</div>"
            ],
            "text/plain": [
              "              name  total_trxs  ...  avg_bet_size  detection\n",
              "7     zhaowenyoung           1  ...      0.100000        bot\n",
              "8     sourceeoseos           1  ...      0.100000        bot\n",
              "11    hchn12345432           1  ...      0.100000        bot\n",
              "12    shadowalker3           1  ...      0.100000        bot\n",
              "14    zjgzjhshy123           1  ...      0.100000        bot\n",
              "...            ...         ...  ...           ...        ...\n",
              "1634  gy3tamrxgqge        3838  ...      0.360544        bot\n",
              "1640  g44dmnrxg4ge        5791  ...     26.704593        bot\n",
              "1641  g44temrwgage        5922  ...      3.576469        bot\n",
              "1644  stardlullaby        7464  ...      1.143940        bot\n",
              "1651  g4ztemjugyge       12963  ...      0.159667        bot\n",
              "\n",
              "[1169 rows x 12 columns]"
            ]
          },
          "metadata": {
            "tags": []
          },
          "execution_count": 11
        }
      ]
    },
    {
      "cell_type": "markdown",
      "metadata": {
        "id": "BbKTWZ4M3yEF"
      },
      "source": [
        "### 2. Build models on research data. "
      ]
    },
    {
      "cell_type": "code",
      "metadata": {
        "id": "Z_3gIS9TmP3m",
        "colab": {
          "base_uri": "https://localhost:8080/"
        },
        "outputId": "b2f882c7-3502-462d-8916-6a5a0f193b47"
      },
      "source": [
        "combined1.detection.value_counts()"
      ],
      "execution_count": 12,
      "outputs": [
        {
          "output_type": "execute_result",
          "data": {
            "text/plain": [
              "bot      1167\n",
              "human       2\n",
              "Name: detection, dtype: int64"
            ]
          },
          "metadata": {
            "tags": []
          },
          "execution_count": 12
        }
      ]
    },
    {
      "cell_type": "code",
      "metadata": {
        "id": "v8_YLipedcJW",
        "colab": {
          "base_uri": "https://localhost:8080/"
        },
        "outputId": "f62f7a07-b70f-41d3-a72f-e73e4bfa4dd4"
      },
      "source": [
        "threshold = len(combined1[combined1['detection']=='bot'])/len(combined1)\n",
        "threshold"
      ],
      "execution_count": 13,
      "outputs": [
        {
          "output_type": "execute_result",
          "data": {
            "text/plain": [
              "0.998289136013687"
            ]
          },
          "metadata": {
            "tags": []
          },
          "execution_count": 13
        }
      ]
    },
    {
      "cell_type": "code",
      "metadata": {
        "id": "bg3C_4T9e2D3"
      },
      "source": [
        "selected_columns = ['total_trxs', 'win_ratio', 'days_active','unique_hrs_active', 'avg_hrs_active',  'avg_bet_size']\n",
        "X = combined1[selected_columns]\n",
        "y = combined1['detection']\n",
        "\n",
        "X_train, X_test, y_train, y_test = train_test_split(X, y, test_size=0.25, random_state=42)\n",
        "X_validation, X_test, y_validation, y_test = train_test_split(X_test, y_test, test_size=0.25, random_state=42)\n"
      ],
      "execution_count": 14,
      "outputs": []
    },
    {
      "cell_type": "code",
      "metadata": {
        "id": "rhN1DBxJg5Kn",
        "colab": {
          "base_uri": "https://localhost:8080/"
        },
        "outputId": "7c55a097-b81e-4f95-916a-ff84824b9993"
      },
      "source": [
        "logreg = LogisticRegression()                              \n",
        "logreg.fit(X_train, y_train)                                 \n",
        "y_prediction = logreg.predict(X_validation)                             \n",
        "acc_logreg = sum(y_prediction == y_validation)/len(y_validation)*100    \n",
        "\n",
        "print('Logistic Regression validation accuracy:', str(round(acc_logreg,2)),'%')"
      ],
      "execution_count": 15,
      "outputs": [
        {
          "output_type": "stream",
          "text": [
            "Logistic Regression validation accuracy: 100.0 %\n"
          ],
          "name": "stdout"
        }
      ]
    },
    {
      "cell_type": "code",
      "metadata": {
        "id": "NC5xdAdxh25R",
        "colab": {
          "base_uri": "https://localhost:8080/"
        },
        "outputId": "26801249-3937-4b97-fd71-66844e4447de"
      },
      "source": [
        "neigh = KNeighborsClassifier(n_neighbors=3)\n",
        "neigh.fit(X_train, y_train)\n",
        "y_prediction = neigh.predict(X_test) \n",
        "acc_neigh = sum(y_prediction == y_test)/len(y_test)*100\n",
        "\n",
        "print('KNN validation accuracy:', str(round(acc_neigh,2)),'%')"
      ],
      "execution_count": 16,
      "outputs": [
        {
          "output_type": "stream",
          "text": [
            "KNN validation accuracy: 100.0 %\n"
          ],
          "name": "stdout"
        }
      ]
    },
    {
      "cell_type": "code",
      "metadata": {
        "id": "J_oE0f0WkJHL",
        "colab": {
          "base_uri": "https://localhost:8080/"
        },
        "outputId": "39908257-3948-42f0-bf67-4f65cc25d25f"
      },
      "source": [
        "percept = Perceptron()\n",
        "percept.fit(X_train, y_train)\n",
        "y_prediction = percept.predict(X_validation) \n",
        "acc_percept = sum(y_prediction == y_validation)/len(y_validation)*100\n",
        "\n",
        "print('Perceptron validation accuracy:', str(round(acc_percept,2)),'%')"
      ],
      "execution_count": 17,
      "outputs": [
        {
          "output_type": "stream",
          "text": [
            "Perceptron validation accuracy: 100.0 %\n"
          ],
          "name": "stdout"
        }
      ]
    },
    {
      "cell_type": "code",
      "metadata": {
        "id": "ihz9aNp7upS2",
        "colab": {
          "base_uri": "https://localhost:8080/"
        },
        "outputId": "c5aa69ee-f33e-473b-cb72-557c666e62a5"
      },
      "source": [
        "rf = RandomForestClassifier()\n",
        "rf.fit(X_train, y_train)\n",
        "y_prediction = rf.predict(X_validation) \n",
        "acc_rf = sum(y_prediction == y_validation)/len(y_validation)*100\n",
        "\n",
        "print('Random Forest validation accuracy:', str(round(acc_rf,2)),'%')"
      ],
      "execution_count": 18,
      "outputs": [
        {
          "output_type": "stream",
          "text": [
            "Random Forest validation accuracy: 100.0 %\n"
          ],
          "name": "stdout"
        }
      ]
    },
    {
      "cell_type": "markdown",
      "metadata": {
        "id": "TndAarOc3uGy"
      },
      "source": [
        "### 3. Import Manually labeled data. "
      ]
    },
    {
      "cell_type": "code",
      "metadata": {
        "id": "Pfy96PCq2iaa",
        "colab": {
          "base_uri": "https://localhost:8080/",
          "height": 415
        },
        "outputId": "1f22e95c-4ada-44d4-e618-91ddd266e117"
      },
      "source": [
        "# Load manually labeled data in manual\n",
        "manual = pd.read_csv('team_labels.csv', names=column_names)\n",
        "manual"
      ],
      "execution_count": 19,
      "outputs": [
        {
          "output_type": "execute_result",
          "data": {
            "text/html": [
              "<div>\n",
              "<style scoped>\n",
              "    .dataframe tbody tr th:only-of-type {\n",
              "        vertical-align: middle;\n",
              "    }\n",
              "\n",
              "    .dataframe tbody tr th {\n",
              "        vertical-align: top;\n",
              "    }\n",
              "\n",
              "    .dataframe thead th {\n",
              "        text-align: right;\n",
              "    }\n",
              "</style>\n",
              "<table border=\"1\" class=\"dataframe\">\n",
              "  <thead>\n",
              "    <tr style=\"text-align: right;\">\n",
              "      <th></th>\n",
              "      <th>user</th>\n",
              "      <th>detection</th>\n",
              "    </tr>\n",
              "  </thead>\n",
              "  <tbody>\n",
              "    <tr>\n",
              "      <th>0</th>\n",
              "      <td>12345dancing</td>\n",
              "      <td>human</td>\n",
              "    </tr>\n",
              "    <tr>\n",
              "      <th>1</th>\n",
              "      <td>12345haoming</td>\n",
              "      <td>human</td>\n",
              "    </tr>\n",
              "    <tr>\n",
              "      <th>2</th>\n",
              "      <td>14wkee4teosd</td>\n",
              "      <td>human</td>\n",
              "    </tr>\n",
              "    <tr>\n",
              "      <th>3</th>\n",
              "      <td>1af4gv2nrpw5</td>\n",
              "      <td>bot</td>\n",
              "    </tr>\n",
              "    <tr>\n",
              "      <th>4</th>\n",
              "      <td>1aisuion2gdh</td>\n",
              "      <td>bot</td>\n",
              "    </tr>\n",
              "    <tr>\n",
              "      <th>...</th>\n",
              "      <td>...</td>\n",
              "      <td>...</td>\n",
              "    </tr>\n",
              "    <tr>\n",
              "      <th>557</th>\n",
              "      <td>zkt55e1hnzty</td>\n",
              "      <td>bot</td>\n",
              "    </tr>\n",
              "    <tr>\n",
              "      <th>558</th>\n",
              "      <td>zm5caotinggg</td>\n",
              "      <td>human</td>\n",
              "    </tr>\n",
              "    <tr>\n",
              "      <th>559</th>\n",
              "      <td>zn12xtkgrcau</td>\n",
              "      <td>bot</td>\n",
              "    </tr>\n",
              "    <tr>\n",
              "      <th>560</th>\n",
              "      <td>zpejevem4pst</td>\n",
              "      <td>bot</td>\n",
              "    </tr>\n",
              "    <tr>\n",
              "      <th>561</th>\n",
              "      <td>zrfbanlsdfqt</td>\n",
              "      <td>bot</td>\n",
              "    </tr>\n",
              "  </tbody>\n",
              "</table>\n",
              "<p>562 rows × 2 columns</p>\n",
              "</div>"
            ],
            "text/plain": [
              "             user detection\n",
              "0    12345dancing     human\n",
              "1    12345haoming     human\n",
              "2    14wkee4teosd     human\n",
              "3    1af4gv2nrpw5       bot\n",
              "4    1aisuion2gdh       bot\n",
              "..            ...       ...\n",
              "557  zkt55e1hnzty       bot\n",
              "558  zm5caotinggg     human\n",
              "559  zn12xtkgrcau       bot\n",
              "560  zpejevem4pst       bot\n",
              "561  zrfbanlsdfqt       bot\n",
              "\n",
              "[562 rows x 2 columns]"
            ]
          },
          "metadata": {
            "tags": []
          },
          "execution_count": 19
        }
      ]
    },
    {
      "cell_type": "code",
      "metadata": {
        "id": "4Jv1xSU_k0Xn",
        "colab": {
          "base_uri": "https://localhost:8080/"
        },
        "outputId": "310659d6-0e28-466e-e48e-39e8e22c1de4"
      },
      "source": [
        "# Clean and extract all features.\n",
        "def clean_file(file):\n",
        "    # the current version of clean_file only checks for \n",
        "    banks = ['eossuperplay', 'endlessbank1', 'endlessdicex', 'endlesscrash']\n",
        "    inspect = pd.read_json(file, lines=True)\n",
        "    inspect['auth_actor'] = inspect['authorization'].apply(lambda x: x[0]['actor'])\n",
        "    inspect['auth_perm'] = inspect['authorization'].apply(lambda x: x[0]['permission'])\n",
        "    inspect = inspect.drop(columns=['authorization'])\n",
        "    inspect = inspect[~inspect['d_to'].isin(banks)]\n",
        "    return inspect\n",
        "\n",
        "def summary(data):\n",
        "    for col in data.columns:\n",
        "        print(col)\n",
        "        display(data[col].value_counts())\n",
        "        print('\\n')\n",
        "\n",
        "archive = zipfile.ZipFile('endlessdice-201903.zip', 'r')\n",
        "\n",
        "# num_want is now many we want for now\n",
        "num_files, num_want = len(archive.namelist()), 20\n",
        "num_want = num_files\n",
        "\n",
        "combined = clean_file(archive.open(archive.namelist()[0]))\n",
        "for i, name in enumerate(archive.namelist()[1:]):\n",
        "    j = i + 1\n",
        "    if j % 10 == 1: \n",
        "        print(\"{} / {}\".format(j, num_want + 1))\n",
        "        print(name)\n",
        "    if j > num_want:\n",
        "        break\n",
        "    temp = clean_file(archive.open(name))\n",
        "    combined = combined.append(temp)\n",
        "print(\"finished\")\n",
        "\n",
        "temporal = combined[['d_to', 'trx_timestamp']].rename(columns={'d_to': 'user', 'trx_timestamp': 'time'})\n",
        "temporal['time'] = pd.to_datetime(temporal['time'])\n",
        "temporal['weekday'] = temporal['time'].dt.weekday\n",
        "temporal['hour'] = temporal['time'].dt.hour\n",
        "temporal.head()"
      ],
      "execution_count": null,
      "outputs": [
        {
          "output_type": "stream",
          "text": [
            "1 / 63\n",
            "actions-endlessbank1-20190302.json\n"
          ],
          "name": "stdout"
        }
      ]
    },
    {
      "cell_type": "markdown",
      "metadata": {
        "id": "t8b5x-2m4OTm"
      },
      "source": [
        "### 4. Feature Engineering"
      ]
    },
    {
      "cell_type": "code",
      "metadata": {
        "id": "XYcZfSE3t0UU",
        "colab": {
          "base_uri": "https://localhost:8080/",
          "height": 419
        },
        "outputId": "5fed3753-1f50-4cee-a715-3acd48c754a9"
      },
      "source": [
        "# Combine manual labels with features. \n",
        "grouped = temporal.groupby('user').count()[['time']].reset_index()\n",
        "featured = grouped.merge(manual, left_on = 'user', right_on = 'user')\n",
        "featured"
      ],
      "execution_count": null,
      "outputs": [
        {
          "output_type": "execute_result",
          "data": {
            "text/html": [
              "<div>\n",
              "<style scoped>\n",
              "    .dataframe tbody tr th:only-of-type {\n",
              "        vertical-align: middle;\n",
              "    }\n",
              "\n",
              "    .dataframe tbody tr th {\n",
              "        vertical-align: top;\n",
              "    }\n",
              "\n",
              "    .dataframe thead th {\n",
              "        text-align: right;\n",
              "    }\n",
              "</style>\n",
              "<table border=\"1\" class=\"dataframe\">\n",
              "  <thead>\n",
              "    <tr style=\"text-align: right;\">\n",
              "      <th></th>\n",
              "      <th>user</th>\n",
              "      <th>time</th>\n",
              "      <th>detection</th>\n",
              "    </tr>\n",
              "  </thead>\n",
              "  <tbody>\n",
              "    <tr>\n",
              "      <th>0</th>\n",
              "      <td>12345dancing</td>\n",
              "      <td>11</td>\n",
              "      <td>human</td>\n",
              "    </tr>\n",
              "    <tr>\n",
              "      <th>1</th>\n",
              "      <td>12345haoming</td>\n",
              "      <td>3</td>\n",
              "      <td>human</td>\n",
              "    </tr>\n",
              "    <tr>\n",
              "      <th>2</th>\n",
              "      <td>14wkee4teosd</td>\n",
              "      <td>7</td>\n",
              "      <td>human</td>\n",
              "    </tr>\n",
              "    <tr>\n",
              "      <th>3</th>\n",
              "      <td>1af4gv2nrpw5</td>\n",
              "      <td>32</td>\n",
              "      <td>bot</td>\n",
              "    </tr>\n",
              "    <tr>\n",
              "      <th>4</th>\n",
              "      <td>1aisuion2gdh</td>\n",
              "      <td>30</td>\n",
              "      <td>bot</td>\n",
              "    </tr>\n",
              "    <tr>\n",
              "      <th>...</th>\n",
              "      <td>...</td>\n",
              "      <td>...</td>\n",
              "      <td>...</td>\n",
              "    </tr>\n",
              "    <tr>\n",
              "      <th>557</th>\n",
              "      <td>zkt55e1hnzty</td>\n",
              "      <td>31</td>\n",
              "      <td>bot</td>\n",
              "    </tr>\n",
              "    <tr>\n",
              "      <th>558</th>\n",
              "      <td>zm5caotinggg</td>\n",
              "      <td>154</td>\n",
              "      <td>human</td>\n",
              "    </tr>\n",
              "    <tr>\n",
              "      <th>559</th>\n",
              "      <td>zn12xtkgrcau</td>\n",
              "      <td>30</td>\n",
              "      <td>bot</td>\n",
              "    </tr>\n",
              "    <tr>\n",
              "      <th>560</th>\n",
              "      <td>zpejevem4pst</td>\n",
              "      <td>32</td>\n",
              "      <td>bot</td>\n",
              "    </tr>\n",
              "    <tr>\n",
              "      <th>561</th>\n",
              "      <td>zrfbanlsdfqt</td>\n",
              "      <td>30</td>\n",
              "      <td>bot</td>\n",
              "    </tr>\n",
              "  </tbody>\n",
              "</table>\n",
              "<p>562 rows × 3 columns</p>\n",
              "</div>"
            ],
            "text/plain": [
              "             user  time detection\n",
              "0    12345dancing    11     human\n",
              "1    12345haoming     3     human\n",
              "2    14wkee4teosd     7     human\n",
              "3    1af4gv2nrpw5    32       bot\n",
              "4    1aisuion2gdh    30       bot\n",
              "..            ...   ...       ...\n",
              "557  zkt55e1hnzty    31       bot\n",
              "558  zm5caotinggg   154     human\n",
              "559  zn12xtkgrcau    30       bot\n",
              "560  zpejevem4pst    32       bot\n",
              "561  zrfbanlsdfqt    30       bot\n",
              "\n",
              "[562 rows x 3 columns]"
            ]
          },
          "metadata": {
            "tags": []
          },
          "execution_count": 23
        }
      ]
    },
    {
      "cell_type": "code",
      "metadata": {
        "id": "bDzD10TovqFq",
        "colab": {
          "base_uri": "https://localhost:8080/",
          "height": 419
        },
        "outputId": "4c6ffedd-8be2-44dd-f781-91da8917d748"
      },
      "source": [
        "#Save the number of days an account is active for transactions in a week in days_active\n",
        "a = temporal.groupby(['user', 'weekday']).count().reset_index()\n",
        "b = a.groupby('user').count().reset_index().merge(featured, left_on = 'user', right_on = 'user')\n",
        "featured['days_active'] = b['weekday']\n",
        "featured"
      ],
      "execution_count": null,
      "outputs": [
        {
          "output_type": "execute_result",
          "data": {
            "text/html": [
              "<div>\n",
              "<style scoped>\n",
              "    .dataframe tbody tr th:only-of-type {\n",
              "        vertical-align: middle;\n",
              "    }\n",
              "\n",
              "    .dataframe tbody tr th {\n",
              "        vertical-align: top;\n",
              "    }\n",
              "\n",
              "    .dataframe thead th {\n",
              "        text-align: right;\n",
              "    }\n",
              "</style>\n",
              "<table border=\"1\" class=\"dataframe\">\n",
              "  <thead>\n",
              "    <tr style=\"text-align: right;\">\n",
              "      <th></th>\n",
              "      <th>user</th>\n",
              "      <th>time</th>\n",
              "      <th>detection</th>\n",
              "      <th>days_active</th>\n",
              "    </tr>\n",
              "  </thead>\n",
              "  <tbody>\n",
              "    <tr>\n",
              "      <th>0</th>\n",
              "      <td>12345dancing</td>\n",
              "      <td>11</td>\n",
              "      <td>human</td>\n",
              "      <td>3</td>\n",
              "    </tr>\n",
              "    <tr>\n",
              "      <th>1</th>\n",
              "      <td>12345haoming</td>\n",
              "      <td>3</td>\n",
              "      <td>human</td>\n",
              "      <td>1</td>\n",
              "    </tr>\n",
              "    <tr>\n",
              "      <th>2</th>\n",
              "      <td>14wkee4teosd</td>\n",
              "      <td>7</td>\n",
              "      <td>human</td>\n",
              "      <td>2</td>\n",
              "    </tr>\n",
              "    <tr>\n",
              "      <th>3</th>\n",
              "      <td>1af4gv2nrpw5</td>\n",
              "      <td>32</td>\n",
              "      <td>bot</td>\n",
              "      <td>7</td>\n",
              "    </tr>\n",
              "    <tr>\n",
              "      <th>4</th>\n",
              "      <td>1aisuion2gdh</td>\n",
              "      <td>30</td>\n",
              "      <td>bot</td>\n",
              "      <td>7</td>\n",
              "    </tr>\n",
              "    <tr>\n",
              "      <th>...</th>\n",
              "      <td>...</td>\n",
              "      <td>...</td>\n",
              "      <td>...</td>\n",
              "      <td>...</td>\n",
              "    </tr>\n",
              "    <tr>\n",
              "      <th>557</th>\n",
              "      <td>zkt55e1hnzty</td>\n",
              "      <td>31</td>\n",
              "      <td>bot</td>\n",
              "      <td>7</td>\n",
              "    </tr>\n",
              "    <tr>\n",
              "      <th>558</th>\n",
              "      <td>zm5caotinggg</td>\n",
              "      <td>154</td>\n",
              "      <td>human</td>\n",
              "      <td>3</td>\n",
              "    </tr>\n",
              "    <tr>\n",
              "      <th>559</th>\n",
              "      <td>zn12xtkgrcau</td>\n",
              "      <td>30</td>\n",
              "      <td>bot</td>\n",
              "      <td>7</td>\n",
              "    </tr>\n",
              "    <tr>\n",
              "      <th>560</th>\n",
              "      <td>zpejevem4pst</td>\n",
              "      <td>32</td>\n",
              "      <td>bot</td>\n",
              "      <td>7</td>\n",
              "    </tr>\n",
              "    <tr>\n",
              "      <th>561</th>\n",
              "      <td>zrfbanlsdfqt</td>\n",
              "      <td>30</td>\n",
              "      <td>bot</td>\n",
              "      <td>7</td>\n",
              "    </tr>\n",
              "  </tbody>\n",
              "</table>\n",
              "<p>562 rows × 4 columns</p>\n",
              "</div>"
            ],
            "text/plain": [
              "             user  time detection  days_active\n",
              "0    12345dancing    11     human            3\n",
              "1    12345haoming     3     human            1\n",
              "2    14wkee4teosd     7     human            2\n",
              "3    1af4gv2nrpw5    32       bot            7\n",
              "4    1aisuion2gdh    30       bot            7\n",
              "..            ...   ...       ...          ...\n",
              "557  zkt55e1hnzty    31       bot            7\n",
              "558  zm5caotinggg   154     human            3\n",
              "559  zn12xtkgrcau    30       bot            7\n",
              "560  zpejevem4pst    32       bot            7\n",
              "561  zrfbanlsdfqt    30       bot            7\n",
              "\n",
              "[562 rows x 4 columns]"
            ]
          },
          "metadata": {
            "tags": []
          },
          "execution_count": 27
        }
      ]
    },
    {
      "cell_type": "code",
      "metadata": {
        "id": "tooyHu6dykk6",
        "colab": {
          "base_uri": "https://localhost:8080/",
          "height": 297
        },
        "outputId": "e1f98392-5601-4fa9-88a4-40b1c20acba7"
      },
      "source": [
        "c = temporal.groupby(['user', 'hour']).count().reset_index()\n",
        "d = c.groupby('user').count().reset_index().merge(featured, left_on = 'user', right_on = 'user')\n",
        "featured['hours_active'] = c['weekday']\n",
        "featured.describe()"
      ],
      "execution_count": null,
      "outputs": [
        {
          "output_type": "execute_result",
          "data": {
            "text/html": [
              "<div>\n",
              "<style scoped>\n",
              "    .dataframe tbody tr th:only-of-type {\n",
              "        vertical-align: middle;\n",
              "    }\n",
              "\n",
              "    .dataframe tbody tr th {\n",
              "        vertical-align: top;\n",
              "    }\n",
              "\n",
              "    .dataframe thead th {\n",
              "        text-align: right;\n",
              "    }\n",
              "</style>\n",
              "<table border=\"1\" class=\"dataframe\">\n",
              "  <thead>\n",
              "    <tr style=\"text-align: right;\">\n",
              "      <th></th>\n",
              "      <th>time</th>\n",
              "      <th>days_active</th>\n",
              "      <th>hours_active</th>\n",
              "    </tr>\n",
              "  </thead>\n",
              "  <tbody>\n",
              "    <tr>\n",
              "      <th>count</th>\n",
              "      <td>562.000000</td>\n",
              "      <td>562.000000</td>\n",
              "      <td>562.000000</td>\n",
              "    </tr>\n",
              "    <tr>\n",
              "      <th>mean</th>\n",
              "      <td>694.715302</td>\n",
              "      <td>5.754448</td>\n",
              "      <td>24.112100</td>\n",
              "    </tr>\n",
              "    <tr>\n",
              "      <th>std</th>\n",
              "      <td>10474.908276</td>\n",
              "      <td>2.201164</td>\n",
              "      <td>48.412001</td>\n",
              "    </tr>\n",
              "    <tr>\n",
              "      <th>min</th>\n",
              "      <td>2.000000</td>\n",
              "      <td>1.000000</td>\n",
              "      <td>1.000000</td>\n",
              "    </tr>\n",
              "    <tr>\n",
              "      <th>25%</th>\n",
              "      <td>29.000000</td>\n",
              "      <td>5.250000</td>\n",
              "      <td>1.000000</td>\n",
              "    </tr>\n",
              "    <tr>\n",
              "      <th>50%</th>\n",
              "      <td>30.000000</td>\n",
              "      <td>7.000000</td>\n",
              "      <td>2.000000</td>\n",
              "    </tr>\n",
              "    <tr>\n",
              "      <th>75%</th>\n",
              "      <td>32.000000</td>\n",
              "      <td>7.000000</td>\n",
              "      <td>29.000000</td>\n",
              "    </tr>\n",
              "    <tr>\n",
              "      <th>max</th>\n",
              "      <td>242136.000000</td>\n",
              "      <td>7.000000</td>\n",
              "      <td>355.000000</td>\n",
              "    </tr>\n",
              "  </tbody>\n",
              "</table>\n",
              "</div>"
            ],
            "text/plain": [
              "                time  days_active  hours_active\n",
              "count     562.000000   562.000000    562.000000\n",
              "mean      694.715302     5.754448     24.112100\n",
              "std     10474.908276     2.201164     48.412001\n",
              "min         2.000000     1.000000      1.000000\n",
              "25%        29.000000     5.250000      1.000000\n",
              "50%        30.000000     7.000000      2.000000\n",
              "75%        32.000000     7.000000     29.000000\n",
              "max    242136.000000     7.000000    355.000000"
            ]
          },
          "metadata": {
            "tags": []
          },
          "execution_count": 35
        }
      ]
    },
    {
      "cell_type": "markdown",
      "metadata": {
        "id": "F6HP-E8T41lS"
      },
      "source": [
        "### 5. Models built on the manually labeled data. "
      ]
    },
    {
      "cell_type": "code",
      "metadata": {
        "id": "lSnDGN-o1jlW",
        "colab": {
          "base_uri": "https://localhost:8080/"
        },
        "outputId": "c74e5d9d-3bc6-46d8-9b62-a607dd23848c"
      },
      "source": [
        "threshold = len(new[new['detection']=='bot'])/len(new)\n",
        "threshold"
      ],
      "execution_count": null,
      "outputs": [
        {
          "output_type": "execute_result",
          "data": {
            "text/plain": [
              "0.8202846975088968"
            ]
          },
          "metadata": {
            "tags": []
          },
          "execution_count": 18
        }
      ]
    },
    {
      "cell_type": "code",
      "metadata": {
        "id": "5a5M1Fmj1AH_"
      },
      "source": [
        "selected_columns = ['time','days_active','hours_active']\n",
        "X = new[selected_columns]\n",
        "y = new['detection']\n",
        "\n",
        "X_train, X_test, y_train, y_test = train_test_split(X, y, test_size=0.25, random_state=42)\n",
        "X_validation, X_test, y_validation, y_test = train_test_split(X_test, y_test, test_size=0.25, random_state=42)"
      ],
      "execution_count": null,
      "outputs": []
    },
    {
      "cell_type": "code",
      "metadata": {
        "id": "s7x3B5Hj1WZA",
        "colab": {
          "base_uri": "https://localhost:8080/"
        },
        "outputId": "1f4c4088-1926-4a66-9b6f-662f2d6b4eb4"
      },
      "source": [
        "logreg = LogisticRegression()                              \n",
        "logreg.fit(X_train, y_train)                                 \n",
        "y_prediction = logreg.predict(X_validation)                             \n",
        "acc_logreg = sum(y_prediction == y_validation)/len(y_validation)*100    \n",
        "\n",
        "print('Logistic Regression validation accuracy:', str(round(acc_logreg,2)),'%')"
      ],
      "execution_count": null,
      "outputs": [
        {
          "output_type": "stream",
          "text": [
            "Logistic Regression validation accuracy: 97.14 %\n"
          ],
          "name": "stdout"
        }
      ]
    },
    {
      "cell_type": "code",
      "metadata": {
        "id": "9uay9Fti1eA_",
        "colab": {
          "base_uri": "https://localhost:8080/"
        },
        "outputId": "6949ea81-7f61-497c-8a1e-df0f7152f1a5"
      },
      "source": [
        "neigh = KNeighborsClassifier(n_neighbors=3)\n",
        "neigh.fit(X_train, y_train)\n",
        "y_prediction = neigh.predict(X_test) \n",
        "acc_neigh = sum(y_prediction == y_test)/len(y_test)*100\n",
        "\n",
        "print('KNN validation accuracy:', str(round(acc_neigh,2)),'%')"
      ],
      "execution_count": null,
      "outputs": [
        {
          "output_type": "stream",
          "text": [
            "KNN validation accuracy: 88.89 %\n"
          ],
          "name": "stdout"
        }
      ]
    },
    {
      "cell_type": "code",
      "metadata": {
        "id": "2Y9eTc_r1qla",
        "colab": {
          "base_uri": "https://localhost:8080/"
        },
        "outputId": "d8acf04f-4d4e-44d1-efd2-adb3b8b19791"
      },
      "source": [
        "percept = Perceptron()\n",
        "percept.fit(X_train, y_train)\n",
        "y_prediction = percept.predict(X_validation) \n",
        "acc_percept = sum(y_prediction == y_validation)/len(y_validation)*100\n",
        "\n",
        "print('Perceptron validation accuracy:', str(round(acc_percept,2)),'%')"
      ],
      "execution_count": null,
      "outputs": [
        {
          "output_type": "stream",
          "text": [
            "Random Forest validation accuracy: 83.81 %\n"
          ],
          "name": "stdout"
        }
      ]
    },
    {
      "cell_type": "code",
      "metadata": {
        "id": "nFxcJIMB1u8i"
      },
      "source": [
        "rf = RandomForestClassifier()\n",
        "rf.fit(X_train, y_train)\n",
        "y_prediction = rf.predict(X_validation) \n",
        "acc_rf = sum(y_prediction == y_validation)/len(y_validation)*100\n",
        "\n",
        "print('Random Forest validation accuracy:', str(round(acc_rf,2)),'%')"
      ],
      "execution_count": null,
      "outputs": []
    },
    {
      "cell_type": "markdown",
      "metadata": {
        "id": "x7Ta6p68r50k"
      },
      "source": [
        "# 6. Models built with both Research and Manual Labels"
      ]
    },
    {
      "cell_type": "code",
      "metadata": {
        "id": "jg1QEZIzif38",
        "colab": {
          "base_uri": "https://localhost:8080/"
        },
        "outputId": "7522261b-265b-468e-b163-58254a873cc6"
      },
      "source": [
        "team_labels = pd.read_csv('team_labels.csv', names=column_names)\n",
        "all_labels = labels.append(team_labels.loc[~team_labels.user.isin(labels.user.values)])\n",
        "\n",
        "full = user_df.loc[user_df.name.isin(all_labels.user.values)]\n",
        "full['detection'] = full.name.apply(lambda user: all_labels.loc[all_labels.user == user, 'detection'].values[0])\n",
        "full.detection.value_counts()"
      ],
      "execution_count": null,
      "outputs": [
        {
          "output_type": "stream",
          "text": [
            "/usr/local/lib/python3.6/dist-packages/ipykernel_launcher.py:5: SettingWithCopyWarning: \n",
            "A value is trying to be set on a copy of a slice from a DataFrame.\n",
            "Try using .loc[row_indexer,col_indexer] = value instead\n",
            "\n",
            "See the caveats in the documentation: https://pandas.pydata.org/pandas-docs/stable/user_guide/indexing.html#returning-a-view-versus-a-copy\n",
            "  \"\"\"\n"
          ],
          "name": "stderr"
        },
        {
          "output_type": "execute_result",
          "data": {
            "text/plain": [
              "bot      1213\n",
              "human      75\n",
              "Name: detection, dtype: int64"
            ]
          },
          "metadata": {
            "tags": []
          },
          "execution_count": 36
        }
      ]
    },
    {
      "cell_type": "code",
      "metadata": {
        "id": "HrlxwB6ustYX"
      },
      "source": [
        "from sklearn.pipeline import Pipeline, make_pipeline\n",
        "from sklearn.preprocessing import StandardScaler, KBinsDiscretizer, FunctionTransformer\n",
        "from sklearn.compose import ColumnTransformer\n",
        "\n",
        "selected_columns = ['total_trxs', 'total_wins', 'win_ratio', 'total_bet',\n",
        "       'total_recieved', 'net_profit', 'days_active', 'unique_hrs_active',\n",
        "       'avg_hrs_active', 'avg_bet_size']\n",
        "\n",
        "def select_columns():\n",
        "    ft = FunctionTransformer(lambda x: x[selected_columns])\n",
        "    ft.get_feature_names = lambda: selected_columns\n",
        "    return ft\n",
        "\n",
        "def numerical_transforms():\n",
        "    return ColumnTransformer([\n",
        "        # Edit this section so that it includes your chosen features\n",
        "        ('total_trxs', KBinsDiscretizer(n_bins=3, encode=\"ordinal\",strategy=\"quantile\"), ['total_trxs']),\n",
        "        ('total_wins', KBinsDiscretizer(n_bins=3, encode=\"ordinal\",strategy=\"quantile\"), ['total_wins']),\n",
        "        ('total_bet', StandardScaler(), ['total_bet']),\n",
        "        ('total_recieved', StandardScaler(), ['total_recieved']),\n",
        "        ('net_profit', StandardScaler(), ['net_profit']),\n",
        "        ('days_active', KBinsDiscretizer(n_bins=4, encode=\"ordinal\",strategy=\"quantile\"), ['days_active']),\n",
        "        ('unique_hrs_active', KBinsDiscretizer(n_bins=3, encode=\"ordinal\",strategy=\"quantile\"), ['unique_hrs_active']),\n",
        "        ('avg_hrs_active', KBinsDiscretizer(n_bins=3, encode=\"ordinal\",strategy=\"quantile\"), ['avg_hrs_active']),\n",
        "        ('avg_bet_size', StandardScaler(), ['avg_bet_size'])],\n",
        "        remainder='passthrough')"
      ],
      "execution_count": null,
      "outputs": []
    },
    {
      "cell_type": "code",
      "metadata": {
        "id": "Kal_YYz_ts7w",
        "colab": {
          "base_uri": "https://localhost:8080/"
        },
        "outputId": "c3082530-505e-4e27-86eb-4db8ff1c4ccd"
      },
      "source": [
        "full_pipeline = make_pipeline(select_columns(), numerical_transforms())\n",
        "\n",
        "\n",
        "full_pipeline.fit(full)\n",
        "X = full_pipeline.transform(full)\n",
        "y = full['detection']\n",
        "\n",
        "X_train, X_test, y_train, y_test = train_test_split(X, y, test_size=0.25, random_state=42)\n",
        "X_validation, X_test, y_validation, y_test = train_test_split(X_test, y_test, test_size=0.25, random_state=42)"
      ],
      "execution_count": null,
      "outputs": [
        {
          "output_type": "stream",
          "text": [
            "/usr/local/lib/python3.6/dist-packages/sklearn/preprocessing/_discretization.py:197: UserWarning: Bins whose width are too small (i.e., <= 1e-8) in feature 0 are removed. Consider decreasing the number of bins.\n",
            "  'decreasing the number of bins.' % jj)\n",
            "/usr/local/lib/python3.6/dist-packages/sklearn/preprocessing/_discretization.py:197: UserWarning: Bins whose width are too small (i.e., <= 1e-8) in feature 0 are removed. Consider decreasing the number of bins.\n",
            "  'decreasing the number of bins.' % jj)\n",
            "/usr/local/lib/python3.6/dist-packages/sklearn/preprocessing/_discretization.py:197: UserWarning: Bins whose width are too small (i.e., <= 1e-8) in feature 0 are removed. Consider decreasing the number of bins.\n",
            "  'decreasing the number of bins.' % jj)\n",
            "/usr/local/lib/python3.6/dist-packages/sklearn/preprocessing/_discretization.py:197: UserWarning: Bins whose width are too small (i.e., <= 1e-8) in feature 0 are removed. Consider decreasing the number of bins.\n",
            "  'decreasing the number of bins.' % jj)\n"
          ],
          "name": "stderr"
        }
      ]
    },
    {
      "cell_type": "code",
      "metadata": {
        "id": "Y77UA-5KttFR",
        "colab": {
          "base_uri": "https://localhost:8080/"
        },
        "outputId": "6e36f0f8-227d-4d9d-8794-8a7850aa03d6"
      },
      "source": [
        "logreg = LogisticRegression()                              \n",
        "logreg.fit(X_train, y_train)                                 \n",
        "y_prediction = logreg.predict(X_validation)                             \n",
        "acc_logreg = sum(y_prediction == y_validation)/len(y_validation)*100    \n",
        "\n",
        "print('Logistic Regression validation accuracy:', str(round(acc_logreg,2)),'%')"
      ],
      "execution_count": null,
      "outputs": [
        {
          "output_type": "stream",
          "text": [
            "Logistic Regression validation accuracy: 95.44 %\n"
          ],
          "name": "stdout"
        }
      ]
    },
    {
      "cell_type": "code",
      "metadata": {
        "id": "-yfoiRQyttLd",
        "colab": {
          "base_uri": "https://localhost:8080/"
        },
        "outputId": "71f0ac27-515d-40f3-a806-e78836f1f1ce"
      },
      "source": [
        "neigh = KNeighborsClassifier(n_neighbors=3)\n",
        "neigh.fit(X_train, y_train)\n",
        "y_prediction = neigh.predict(X_test) \n",
        "acc_neigh = sum(y_prediction == y_test)/len(y_test)*100\n",
        "\n",
        "print('KNN validation accuracy:', str(round(acc_neigh,2)),'%')"
      ],
      "execution_count": null,
      "outputs": [
        {
          "output_type": "stream",
          "text": [
            "KNN validation accuracy: 95.06 %\n"
          ],
          "name": "stdout"
        }
      ]
    },
    {
      "cell_type": "code",
      "metadata": {
        "id": "v_5RlUzvttOc",
        "colab": {
          "base_uri": "https://localhost:8080/"
        },
        "outputId": "764c477a-29df-4a4a-b88e-b49c9ccfde3b"
      },
      "source": [
        "percept = Perceptron()\n",
        "percept.fit(X_train, y_train)\n",
        "y_prediction = percept.predict(X_validation) \n",
        "acc_percept = sum(y_prediction == y_validation)/len(y_validation)*100\n",
        "\n",
        "print('Perceptron validation accuracy:', str(round(acc_percept,2)),'%')"
      ],
      "execution_count": null,
      "outputs": [
        {
          "output_type": "stream",
          "text": [
            "Perceptron validation accuracy: 95.02 %\n"
          ],
          "name": "stdout"
        }
      ]
    },
    {
      "cell_type": "code",
      "metadata": {
        "id": "5oEbaniWuLDB",
        "colab": {
          "base_uri": "https://localhost:8080/"
        },
        "outputId": "4e4a6b97-daf9-44e1-d6dc-6eda11238b6d"
      },
      "source": [
        "rf = RandomForestClassifier()\n",
        "rf.fit(X_train, y_train)\n",
        "y_prediction = rf.predict(X_validation) \n",
        "acc_rf = sum(y_prediction == y_validation)/len(y_validation)*100\n",
        "\n",
        "print('Random Forest validation accuracy:', str(round(acc_rf,2)),'%')"
      ],
      "execution_count": null,
      "outputs": [
        {
          "output_type": "stream",
          "text": [
            "Random Forest validation accuracy: 94.61 %\n"
          ],
          "name": "stdout"
        }
      ]
    },
    {
      "cell_type": "code",
      "metadata": {
        "id": "3vLCnqfKuQ20"
      },
      "source": [
        ""
      ],
      "execution_count": null,
      "outputs": []
    }
  ]
}
