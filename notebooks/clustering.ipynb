{
  "nbformat": 4,
  "nbformat_minor": 0,
  "metadata": {
    "colab": {
      "name": "clustering.ipynb",
      "provenance": [],
      "collapsed_sections": []
    },
    "kernelspec": {
      "name": "python3",
      "display_name": "Python 3"
    }
  },
  "cells": [
    {
      "cell_type": "code",
      "metadata": {
        "id": "ER9yshjqh2fH"
      },
      "source": [
        "import pandas as pd\n",
        "import numpy as np\n",
        "\n",
        "from os import path\n",
        "import os, zipfile\n",
        "import matplotlib.pyplot as plt\n",
        "import seaborn as sns\n",
        "\n",
        "from datetime import datetime\n",
        "from ipywidgets import Button, HBox, VBox\n",
        "import ipywidgets as widgets\n",
        "from IPython.display import FileLink, FileLinks\n",
        "from IPython.display import display, clear_output"
      ],
      "execution_count": null,
      "outputs": []
    },
    {
      "cell_type": "markdown",
      "metadata": {
        "id": "0_e_VpAy3Sjf"
      },
      "source": [
        "# 1. Make sure to upload your `endlessdice-201903.zip` to root folder in Google Drive.\n",
        "1. Download from Victor's email chain.\n",
        "2. Go to Google Drive\n",
        "3. New+ -> File upload -> *upload the file* `endlessdice-201903.zip`\n",
        "\n",
        "#### NOTE: only run the following cell once, if you hit an error, you have to hit Runtime -> Factory Reset Runtime\n",
        "1. It will ask for a link, make sure to accept with the google drive you uploaded the zip to.\n",
        "2. Hit accept, copy the pass-string, then copy it back to the notebook."
      ]
    },
    {
      "cell_type": "code",
      "metadata": {
        "id": "xNWaK_eKh4iL",
        "colab": {
          "base_uri": "https://localhost:8080/"
        },
        "outputId": "d29a5cc4-d9af-4125-904e-47b281210f8d"
      },
      "source": [
        "from google.colab import drive\n",
        "drive.mount('/content/gdrive', force_remount=True)\n",
        "%cd gdrive/'My Drive'"
      ],
      "execution_count": null,
      "outputs": [
        {
          "output_type": "stream",
          "text": [
            "Mounted at /content/gdrive\n",
            "/content/gdrive/My Drive\n"
          ],
          "name": "stdout"
        }
      ]
    },
    {
      "cell_type": "markdown",
      "metadata": {
        "id": "uPGyubFy4PG3"
      },
      "source": [
        "2. Import Data to Colab, just run the cell. It will take a while"
      ]
    },
    {
      "cell_type": "code",
      "metadata": {
        "id": "UgawwoM8h8jc",
        "colab": {
          "base_uri": "https://localhost:8080/",
          "height": 459
        },
        "outputId": "41ff88e1-d70e-4322-f61b-938839fa03bd"
      },
      "source": [
        "def clean_file(file):\n",
        "    # the current version of clean_file only checks for \n",
        "    banks = ['eossuperplay', 'endlessbank1', 'endlessdicex', 'endlesscrash']\n",
        "    inspect = pd.read_json(file, lines=True)\n",
        "    inspect['auth_actor'] = inspect['authorization'].apply(lambda x: x[0]['actor'])\n",
        "    inspect['auth_perm'] = inspect['authorization'].apply(lambda x: x[0]['permission'])\n",
        "    inspect = inspect.drop(columns=['authorization'])\n",
        "    inspect = inspect[~inspect['d_to'].isin(banks)]\n",
        "    return inspect\n",
        "\n",
        "def summary(data):\n",
        "    for col in data.columns:\n",
        "        print(col)\n",
        "        display(data[col].value_counts())\n",
        "        print('\\n')\n",
        "\n",
        "archive = zipfile.ZipFile('endlessdice-201903.zip', 'r')\n",
        "\n",
        "# num_want is now many we want for now\n",
        "num_files, num_want = len(archive.namelist()), 20\n",
        "num_want = num_files\n",
        "\n",
        "combined = clean_file(archive.open(archive.namelist()[0]))\n",
        "for i, name in enumerate(archive.namelist()[1:]):\n",
        "    j = i + 1\n",
        "    if j % 10 == 1: \n",
        "        print(\"{} / {}\".format(j, num_want + 1))\n",
        "        print(name)\n",
        "    if j > num_want:\n",
        "        break\n",
        "    temp = clean_file(archive.open(name))\n",
        "    combined = combined.append(temp)\n",
        "print(\"finished\")\n",
        "\n",
        "temporal = combined[['d_to', 'trx_timestamp']].rename(columns={'d_to': 'user', 'trx_timestamp': 'time'})\n",
        "temporal['time'] = pd.to_datetime(temporal['time'])\n",
        "temporal['weekday'] = temporal['time'].dt.weekday\n",
        "temporal['hour'] = temporal['time'].dt.hour\n",
        "temporal.head()"
      ],
      "execution_count": null,
      "outputs": [
        {
          "output_type": "stream",
          "text": [
            "1 / 63\n",
            "actions-endlessbank1-20190302.json\n",
            "11 / 63\n",
            "actions-endlessbank1-20190312.json\n",
            "21 / 63\n",
            "actions-endlessbank1-20190322.json\n",
            "31 / 63\n",
            "actions-endlessdicex-20190301.json\n",
            "41 / 63\n",
            "actions-endlessdicex-20190311.json\n",
            "51 / 63\n",
            "actions-endlessdicex-20190321.json\n",
            "61 / 63\n",
            "actions-endlessdicex-20190331.json\n",
            "finished\n"
          ],
          "name": "stdout"
        },
        {
          "output_type": "execute_result",
          "data": {
            "text/html": [
              "<div>\n",
              "<style scoped>\n",
              "    .dataframe tbody tr th:only-of-type {\n",
              "        vertical-align: middle;\n",
              "    }\n",
              "\n",
              "    .dataframe tbody tr th {\n",
              "        vertical-align: top;\n",
              "    }\n",
              "\n",
              "    .dataframe thead th {\n",
              "        text-align: right;\n",
              "    }\n",
              "</style>\n",
              "<table border=\"1\" class=\"dataframe\">\n",
              "  <thead>\n",
              "    <tr style=\"text-align: right;\">\n",
              "      <th></th>\n",
              "      <th>user</th>\n",
              "      <th>time</th>\n",
              "      <th>weekday</th>\n",
              "      <th>hour</th>\n",
              "    </tr>\n",
              "  </thead>\n",
              "  <tbody>\n",
              "    <tr>\n",
              "      <th>1</th>\n",
              "      <td>nmslnmslnmsl</td>\n",
              "      <td>2019-03-01 00:00:00</td>\n",
              "      <td>4</td>\n",
              "      <td>0</td>\n",
              "    </tr>\n",
              "    <tr>\n",
              "      <th>3</th>\n",
              "      <td>justiceariel</td>\n",
              "      <td>2019-03-01 00:00:03</td>\n",
              "      <td>4</td>\n",
              "      <td>0</td>\n",
              "    </tr>\n",
              "    <tr>\n",
              "      <th>5</th>\n",
              "      <td>edgarwinston</td>\n",
              "      <td>2019-03-01 00:00:08</td>\n",
              "      <td>4</td>\n",
              "      <td>0</td>\n",
              "    </tr>\n",
              "    <tr>\n",
              "      <th>9</th>\n",
              "      <td>raidenkeegan</td>\n",
              "      <td>2019-03-01 00:00:11</td>\n",
              "      <td>4</td>\n",
              "      <td>0</td>\n",
              "    </tr>\n",
              "    <tr>\n",
              "      <th>11</th>\n",
              "      <td>nmslnmslnmsl</td>\n",
              "      <td>2019-03-01 00:00:11</td>\n",
              "      <td>4</td>\n",
              "      <td>0</td>\n",
              "    </tr>\n",
              "  </tbody>\n",
              "</table>\n",
              "</div>"
            ],
            "text/plain": [
              "            user                time  weekday  hour\n",
              "1   nmslnmslnmsl 2019-03-01 00:00:00        4     0\n",
              "3   justiceariel 2019-03-01 00:00:03        4     0\n",
              "5   edgarwinston 2019-03-01 00:00:08        4     0\n",
              "9   raidenkeegan 2019-03-01 00:00:11        4     0\n",
              "11  nmslnmslnmsl 2019-03-01 00:00:11        4     0"
            ]
          },
          "metadata": {
            "tags": []
          },
          "execution_count": 7
        }
      ]
    },
    {
      "cell_type": "code",
      "metadata": {
        "id": "8AEn3WhRbn7J"
      },
      "source": [
        "temporal.to_csv('temporal-only.csv', index=False, header=False)"
      ],
      "execution_count": null,
      "outputs": []
    },
    {
      "cell_type": "markdown",
      "metadata": {
        "id": "bZedcFwn4r-9"
      },
      "source": [
        "Ignore this. This just filters some entries based on a limit, which we currently only set to 1 because clearly if someone makes only one transaction, we have no information."
      ]
    },
    {
      "cell_type": "code",
      "metadata": {
        "id": "PCYvzLqPh60u",
        "colab": {
          "base_uri": "https://localhost:8080/"
        },
        "outputId": "f159e29d-cf99-4f22-fc56-5a9b8132b80b"
      },
      "source": [
        "obvious_bots = pd.read_csv('https://raw.githubusercontent.com/griffinbaum22/bot_detection/main/obvious_bots').obvious_bots.values\n",
        "len(obvious_bots)"
      ],
      "execution_count": null,
      "outputs": [
        {
          "output_type": "execute_result",
          "data": {
            "text/plain": [
              "988"
            ]
          },
          "metadata": {
            "tags": []
          },
          "execution_count": 9
        }
      ]
    },
    {
      "cell_type": "code",
      "metadata": {
        "id": "grvBkZAIiHB7",
        "colab": {
          "base_uri": "https://localhost:8080/",
          "height": 419
        },
        "outputId": "ec4ff97d-29b6-45c9-bb76-0adc5c10b585"
      },
      "source": [
        "limit = 1\n",
        "\n",
        "only_once = temporal.groupby('user').agg('count')[['time']]\n",
        "display(temporal)\n",
        "only_once = only_once[only_once['time'] <= limit].index\n",
        "\n",
        "temporal = temporal[~temporal['user'].isin(only_once)]\n",
        "times = temporal['time']\n",
        "obvious_bots = pd.read_csv('https://raw.githubusercontent.com/griffinbaum22/bot_detection/main/obvious_bots').obvious_bots.values\n",
        "# temporal = temporal[~temporal['user'].isin(obvious_bots)]"
      ],
      "execution_count": null,
      "outputs": [
        {
          "output_type": "display_data",
          "data": {
            "text/html": [
              "<div>\n",
              "<style scoped>\n",
              "    .dataframe tbody tr th:only-of-type {\n",
              "        vertical-align: middle;\n",
              "    }\n",
              "\n",
              "    .dataframe tbody tr th {\n",
              "        vertical-align: top;\n",
              "    }\n",
              "\n",
              "    .dataframe thead th {\n",
              "        text-align: right;\n",
              "    }\n",
              "</style>\n",
              "<table border=\"1\" class=\"dataframe\">\n",
              "  <thead>\n",
              "    <tr style=\"text-align: right;\">\n",
              "      <th></th>\n",
              "      <th>user</th>\n",
              "      <th>time</th>\n",
              "      <th>weekday</th>\n",
              "      <th>hour</th>\n",
              "    </tr>\n",
              "  </thead>\n",
              "  <tbody>\n",
              "    <tr>\n",
              "      <th>1</th>\n",
              "      <td>nmslnmslnmsl</td>\n",
              "      <td>2019-03-01 00:00:00.000</td>\n",
              "      <td>4</td>\n",
              "      <td>0</td>\n",
              "    </tr>\n",
              "    <tr>\n",
              "      <th>3</th>\n",
              "      <td>justiceariel</td>\n",
              "      <td>2019-03-01 00:00:03.000</td>\n",
              "      <td>4</td>\n",
              "      <td>0</td>\n",
              "    </tr>\n",
              "    <tr>\n",
              "      <th>5</th>\n",
              "      <td>edgarwinston</td>\n",
              "      <td>2019-03-01 00:00:08.000</td>\n",
              "      <td>4</td>\n",
              "      <td>0</td>\n",
              "    </tr>\n",
              "    <tr>\n",
              "      <th>9</th>\n",
              "      <td>raidenkeegan</td>\n",
              "      <td>2019-03-01 00:00:11.000</td>\n",
              "      <td>4</td>\n",
              "      <td>0</td>\n",
              "    </tr>\n",
              "    <tr>\n",
              "      <th>11</th>\n",
              "      <td>nmslnmslnmsl</td>\n",
              "      <td>2019-03-01 00:00:11.000</td>\n",
              "      <td>4</td>\n",
              "      <td>0</td>\n",
              "    </tr>\n",
              "    <tr>\n",
              "      <th>...</th>\n",
              "      <td>...</td>\n",
              "      <td>...</td>\n",
              "      <td>...</td>\n",
              "      <td>...</td>\n",
              "    </tr>\n",
              "    <tr>\n",
              "      <th>90274</th>\n",
              "      <td>endlessoptex</td>\n",
              "      <td>2019-03-31 23:59:57.500</td>\n",
              "      <td>6</td>\n",
              "      <td>23</td>\n",
              "    </tr>\n",
              "    <tr>\n",
              "      <th>90276</th>\n",
              "      <td>endlessdivdn</td>\n",
              "      <td>2019-03-31 23:59:57.500</td>\n",
              "      <td>6</td>\n",
              "      <td>23</td>\n",
              "    </tr>\n",
              "    <tr>\n",
              "      <th>90277</th>\n",
              "      <td>endlessoptex</td>\n",
              "      <td>2019-03-31 23:59:57.500</td>\n",
              "      <td>6</td>\n",
              "      <td>23</td>\n",
              "    </tr>\n",
              "    <tr>\n",
              "      <th>90279</th>\n",
              "      <td>endlessdivdn</td>\n",
              "      <td>2019-03-31 23:59:58.000</td>\n",
              "      <td>6</td>\n",
              "      <td>23</td>\n",
              "    </tr>\n",
              "    <tr>\n",
              "      <th>90280</th>\n",
              "      <td>endlessoptex</td>\n",
              "      <td>2019-03-31 23:59:58.000</td>\n",
              "      <td>6</td>\n",
              "      <td>23</td>\n",
              "    </tr>\n",
              "  </tbody>\n",
              "</table>\n",
              "<p>2108307 rows × 4 columns</p>\n",
              "</div>"
            ],
            "text/plain": [
              "               user                    time  weekday  hour\n",
              "1      nmslnmslnmsl 2019-03-01 00:00:00.000        4     0\n",
              "3      justiceariel 2019-03-01 00:00:03.000        4     0\n",
              "5      edgarwinston 2019-03-01 00:00:08.000        4     0\n",
              "9      raidenkeegan 2019-03-01 00:00:11.000        4     0\n",
              "11     nmslnmslnmsl 2019-03-01 00:00:11.000        4     0\n",
              "...             ...                     ...      ...   ...\n",
              "90274  endlessoptex 2019-03-31 23:59:57.500        6    23\n",
              "90276  endlessdivdn 2019-03-31 23:59:57.500        6    23\n",
              "90277  endlessoptex 2019-03-31 23:59:57.500        6    23\n",
              "90279  endlessdivdn 2019-03-31 23:59:58.000        6    23\n",
              "90280  endlessoptex 2019-03-31 23:59:58.000        6    23\n",
              "\n",
              "[2108307 rows x 4 columns]"
            ]
          },
          "metadata": {
            "tags": []
          }
        }
      ]
    },
    {
      "cell_type": "markdown",
      "metadata": {
        "id": "6yUyw17N44kB"
      },
      "source": [
        "Make sure the visualize function displays something normal. If it does, then everything is set up properly."
      ]
    },
    {
      "cell_type": "code",
      "metadata": {
        "id": "-YtTGDSnjK8C",
        "colab": {
          "base_uri": "https://localhost:8080/",
          "height": 413
        },
        "outputId": "23c44607-5bd7-4fc0-e979-68a906f4149d"
      },
      "source": [
        "template = temporal[temporal['user'] == 'nmslnmslnmsl'].groupby(['weekday', 'hour']).agg('count')[['time']]\n",
        "template['time'] = 0\n",
        "def visualize_activity(user, center='mean', figsize=(10,6)):\n",
        "    if user not in set(temporal['user']):\n",
        "        print('{} DOES NOT EXIST'.format(user))\n",
        "        return\n",
        "\n",
        "    # pivot data, there are entries that are empty for now\n",
        "    pivot_temp = temporal[temporal['user'] == user].groupby(['weekday', 'hour']).agg('count')[['time']]\n",
        "\n",
        "    # we use nmslnmslnmsl as template since it has entry at every hour, merging with pivot data\n",
        "    # template = temporal[temporal['user'] == 'nmslnmslnmsl'].groupby(['weekday', 'hour']).agg('count')[['time']]\n",
        "    template_copy = template.copy()\n",
        "    template_copy['time'] = pivot_temp['time']\n",
        "    pivot_temp = template_copy.fillna(0)\n",
        "\n",
        "    # set mins and max\n",
        "    min_pivot, max_pivot = min(pivot_temp['time']), max(pivot_temp['time'])\n",
        "\n",
        "    # plot setting\n",
        "    pivot_temp = pd.pivot_table(data=pivot_temp,\n",
        "                                index='hour',\n",
        "                                columns='weekday',\n",
        "                                values='time')\n",
        "    plt.figure(figsize=figsize)\n",
        "    ax = sns.heatmap(pivot_temp, vmin=min_pivot, vmax=max_pivot,\n",
        "                    cmap = \"YlOrBr\",\n",
        "                    annot=True, fmt=\".1f\")\n",
        "    \n",
        "    # label\n",
        "    plt.title(\"Activity for User: {}\".format(user))\n",
        "    ax.set_xlabel('weekday').set_size(20)\n",
        "    ax.set_ylabel('hour').set_size(20)\n",
        "\n",
        "sample_name = 'ge4tcnrxgyge'\n",
        "visualize_activity(sample_name)"
      ],
      "execution_count": null,
      "outputs": [
        {
          "output_type": "display_data",
          "data": {
            "image/png": "[encoded data removed]",
            "text/plain": [
              "<Figure size 720x432 with 2 Axes>"
            ]
          },
          "metadata": {
            "tags": [],
            "needs_background": "light"
          }
        }
      ]
    },
    {
      "cell_type": "code",
      "metadata": {
        "id": "Nzzb9ikhakfL",
        "colab": {
          "base_uri": "https://localhost:8080/",
          "height": 232
        },
        "outputId": "ccdd80e5-2d08-4104-d401-66fb7ccd1999"
      },
      "source": [
        "import pickle\n",
        "def convert_label(i):\n",
        "    if i == 0:\n",
        "        return 'bot'\n",
        "    return 'human'\n",
        "research_labels = pickle.load(open(\"groundTruth.pkl\", \"rb\"))\n",
        "research_labels['research'] = research_labels['label'].apply(convert_label)\n",
        "research_labels = research_labels[['name', 'research']]\n",
        "research_labels"
      ],
      "execution_count": null,
      "outputs": [
        {
          "output_type": "error",
          "ename": "FileNotFoundError",
          "evalue": "ignored",
          "traceback": [
            "\u001b[0;31m---------------------------------------------------------------------------\u001b[0m",
            "\u001b[0;31mFileNotFoundError\u001b[0m                         Traceback (most recent call last)",
            "\u001b[0;32m<ipython-input-12-8ee5001a671a>\u001b[0m in \u001b[0;36m<module>\u001b[0;34m()\u001b[0m\n\u001b[1;32m      4\u001b[0m         \u001b[0;32mreturn\u001b[0m \u001b[0;34m'bot'\u001b[0m\u001b[0;34m\u001b[0m\u001b[0;34m\u001b[0m\u001b[0m\n\u001b[1;32m      5\u001b[0m     \u001b[0;32mreturn\u001b[0m \u001b[0;34m'human'\u001b[0m\u001b[0;34m\u001b[0m\u001b[0;34m\u001b[0m\u001b[0m\n\u001b[0;32m----> 6\u001b[0;31m \u001b[0mresearch_labels\u001b[0m \u001b[0;34m=\u001b[0m \u001b[0mpickle\u001b[0m\u001b[0;34m.\u001b[0m\u001b[0mload\u001b[0m\u001b[0;34m(\u001b[0m\u001b[0mopen\u001b[0m\u001b[0;34m(\u001b[0m\u001b[0;34m\"groundTruth.pkl\"\u001b[0m\u001b[0;34m,\u001b[0m \u001b[0;34m\"rb\"\u001b[0m\u001b[0;34m)\u001b[0m\u001b[0;34m)\u001b[0m\u001b[0;34m\u001b[0m\u001b[0;34m\u001b[0m\u001b[0m\n\u001b[0m\u001b[1;32m      7\u001b[0m \u001b[0mresearch_labels\u001b[0m\u001b[0;34m[\u001b[0m\u001b[0;34m'research'\u001b[0m\u001b[0;34m]\u001b[0m \u001b[0;34m=\u001b[0m \u001b[0mresearch_labels\u001b[0m\u001b[0;34m[\u001b[0m\u001b[0;34m'label'\u001b[0m\u001b[0;34m]\u001b[0m\u001b[0;34m.\u001b[0m\u001b[0mapply\u001b[0m\u001b[0;34m(\u001b[0m\u001b[0mconvert_label\u001b[0m\u001b[0;34m)\u001b[0m\u001b[0;34m\u001b[0m\u001b[0;34m\u001b[0m\u001b[0m\n\u001b[1;32m      8\u001b[0m \u001b[0mresearch_labels\u001b[0m \u001b[0;34m=\u001b[0m \u001b[0mresearch_labels\u001b[0m\u001b[0;34m[\u001b[0m\u001b[0;34m[\u001b[0m\u001b[0;34m'name'\u001b[0m\u001b[0;34m,\u001b[0m \u001b[0;34m'research'\u001b[0m\u001b[0;34m]\u001b[0m\u001b[0;34m]\u001b[0m\u001b[0;34m\u001b[0m\u001b[0;34m\u001b[0m\u001b[0m\n",
            "\u001b[0;31mFileNotFoundError\u001b[0m: [Errno 2] No such file or directory: 'groundTruth.pkl'"
          ]
        }
      ]
    },
    {
      "cell_type": "code",
      "metadata": {
        "id": "3UcgnG53CXIS",
        "colab": {
          "base_uri": "https://localhost:8080/",
          "height": 450
        },
        "outputId": "3e3ab165-5c4c-44f6-f179-1b1da42df2ef"
      },
      "source": [
        "userCount = temporal.groupby('user').agg('count')\n",
        "userCount = userCount.drop(['time', 'weekday'], axis=1)\n",
        "userCount = userCount.rename(columns={\"hour\": \"interactionCount\"})\n",
        "#number of hours active\n",
        "hoursActive = temporal.groupby(['user', 'weekday', 'hour']).agg('count')\n",
        "hoursActive['n'] = 1\n",
        "hoursActive = hoursActive.groupby('user').agg('sum')\n",
        "hoursActive = hoursActive.drop(['time'], axis=1)\n",
        "hoursActive = hoursActive.rename(columns={\"n\": \"# of hours active\"})\n",
        "final = userCount.join(hoursActive)\n",
        "final"
      ],
      "execution_count": null,
      "outputs": [
        {
          "output_type": "execute_result",
          "data": {
            "text/html": [
              "<div>\n",
              "<style scoped>\n",
              "    .dataframe tbody tr th:only-of-type {\n",
              "        vertical-align: middle;\n",
              "    }\n",
              "\n",
              "    .dataframe tbody tr th {\n",
              "        vertical-align: top;\n",
              "    }\n",
              "\n",
              "    .dataframe thead th {\n",
              "        text-align: right;\n",
              "    }\n",
              "</style>\n",
              "<table border=\"1\" class=\"dataframe\">\n",
              "  <thead>\n",
              "    <tr style=\"text-align: right;\">\n",
              "      <th></th>\n",
              "      <th>interactionCount</th>\n",
              "      <th># of hours active</th>\n",
              "    </tr>\n",
              "    <tr>\n",
              "      <th>user</th>\n",
              "      <th></th>\n",
              "      <th></th>\n",
              "    </tr>\n",
              "  </thead>\n",
              "  <tbody>\n",
              "    <tr>\n",
              "      <th>12345dancing</th>\n",
              "      <td>11</td>\n",
              "      <td>6</td>\n",
              "    </tr>\n",
              "    <tr>\n",
              "      <th>12345haoming</th>\n",
              "      <td>3</td>\n",
              "      <td>1</td>\n",
              "    </tr>\n",
              "    <tr>\n",
              "      <th>1234luckyone</th>\n",
              "      <td>5</td>\n",
              "      <td>3</td>\n",
              "    </tr>\n",
              "    <tr>\n",
              "      <th>12profitup34</th>\n",
              "      <td>6</td>\n",
              "      <td>1</td>\n",
              "    </tr>\n",
              "    <tr>\n",
              "      <th>14wkee4teosd</th>\n",
              "      <td>7</td>\n",
              "      <td>2</td>\n",
              "    </tr>\n",
              "    <tr>\n",
              "      <th>...</th>\n",
              "      <td>...</td>\n",
              "      <td>...</td>\n",
              "    </tr>\n",
              "    <tr>\n",
              "      <th>ztefultajuws</th>\n",
              "      <td>29</td>\n",
              "      <td>9</td>\n",
              "    </tr>\n",
              "    <tr>\n",
              "      <th>zu1t1orl5t2e</th>\n",
              "      <td>31</td>\n",
              "      <td>9</td>\n",
              "    </tr>\n",
              "    <tr>\n",
              "      <th>zuboxrwlypgg</th>\n",
              "      <td>30</td>\n",
              "      <td>8</td>\n",
              "    </tr>\n",
              "    <tr>\n",
              "      <th>zzxzzxzzxzzx</th>\n",
              "      <td>2591</td>\n",
              "      <td>5</td>\n",
              "    </tr>\n",
              "    <tr>\n",
              "      <th>zzzssszzz321</th>\n",
              "      <td>2</td>\n",
              "      <td>1</td>\n",
              "    </tr>\n",
              "  </tbody>\n",
              "</table>\n",
              "<p>1526 rows × 2 columns</p>\n",
              "</div>"
            ],
            "text/plain": [
              "              interactionCount  # of hours active\n",
              "user                                             \n",
              "12345dancing                11                  6\n",
              "12345haoming                 3                  1\n",
              "1234luckyone                 5                  3\n",
              "12profitup34                 6                  1\n",
              "14wkee4teosd                 7                  2\n",
              "...                        ...                ...\n",
              "ztefultajuws                29                  9\n",
              "zu1t1orl5t2e                31                  9\n",
              "zuboxrwlypgg                30                  8\n",
              "zzxzzxzzxzzx              2591                  5\n",
              "zzzssszzz321                 2                  1\n",
              "\n",
              "[1526 rows x 2 columns]"
            ]
          },
          "metadata": {
            "tags": []
          },
          "execution_count": 68
        }
      ]
    },
    {
      "cell_type": "code",
      "metadata": {
        "id": "K2BlJkyqmc_J",
        "colab": {
          "base_uri": "https://localhost:8080/",
          "height": 286
        },
        "outputId": "37a00191-f9bc-475c-9943-b8f5fe22e622"
      },
      "source": [
        "X = final[\"# of hours active\"]\n",
        "Y = final[\"interactionCount\"]\n",
        "plt.scatter(X,Y)"
      ],
      "execution_count": null,
      "outputs": [
        {
          "output_type": "execute_result",
          "data": {
            "text/plain": [
              "<matplotlib.collections.PathCollection at 0x7f2b4d269080>"
            ]
          },
          "metadata": {
            "tags": []
          },
          "execution_count": 69
        },
        {
          "output_type": "display_data",
          "data": {
            "image/png": "[encoded data removed]",
            "text/plain": [
              "<Figure size 432x288 with 1 Axes>"
            ]
          },
          "metadata": {
            "tags": [],
            "needs_background": "light"
          }
        }
      ]
    },
    {
      "cell_type": "code",
      "metadata": {
        "id": "fiO_NXqLnDik",
        "colab": {
          "base_uri": "https://localhost:8080/",
          "height": 282
        },
        "outputId": "230ffae5-71df-4b62-a252-787cbb98fd3c"
      },
      "source": [
        "#removing extremely large outliers since they are clearly bots to see the rest of the data more clearly\n",
        "final = final[final[\"interactionCount\"] < 5000]\n",
        "#remove outliers or obvious bots here\n",
        "X = final[\"# of hours active\"]\n",
        "Y = final[\"interactionCount\"]\n",
        "plt.scatter(X,Y)"
      ],
      "execution_count": null,
      "outputs": [
        {
          "output_type": "execute_result",
          "data": {
            "text/plain": [
              "<matplotlib.collections.PathCollection at 0x7f2b41c7ae80>"
            ]
          },
          "metadata": {
            "tags": []
          },
          "execution_count": 71
        },
        {
          "output_type": "display_data",
          "data": {
            "image/png": "[encoded data removed]",
            "text/plain": [
              "<Figure size 432x288 with 1 Axes>"
            ]
          },
          "metadata": {
            "tags": [],
            "needs_background": "light"
          }
        }
      ]
    },
    {
      "cell_type": "code",
      "metadata": {
        "id": "swnGsvhwqHDa",
        "colab": {
          "base_uri": "https://localhost:8080/"
        },
        "outputId": "4fbce238-312c-456d-cb0b-37c05a35ae8b"
      },
      "source": [
        "user_arr = final.index.values\n",
        "final.reset_index(drop=True, inplace=True)\n",
        "X = final.to_numpy()\n",
        "user_arr"
      ],
      "execution_count": null,
      "outputs": [
        {
          "output_type": "execute_result",
          "data": {
            "text/plain": [
              "array(['12345dancing', '12345haoming', '1234luckyone', ...,\n",
              "       'zuboxrwlypgg', 'zzxzzxzzxzzx', 'zzzssszzz321'], dtype=object)"
            ]
          },
          "metadata": {
            "tags": []
          },
          "execution_count": 72
        }
      ]
    },
    {
      "cell_type": "code",
      "metadata": {
        "id": "OhGfc5n1nslp",
        "colab": {
          "base_uri": "https://localhost:8080/",
          "height": 295
        },
        "outputId": "19b7d1f6-2faa-412b-cbbb-929c20bf1617"
      },
      "source": [
        "from sklearn.cluster import KMeans\n",
        "wcss = []\n",
        "for i in range(1, 11):\n",
        "    kmeans = KMeans(n_clusters=i, random_state=0)\n",
        "    kmeans.fit(X)\n",
        "    wcss.append(kmeans.inertia_)\n",
        "plt.plot(range(1, 11), wcss)\n",
        "plt.title('Elbow Method')\n",
        "plt.xlabel('Number of clusters')\n",
        "plt.ylabel('WCSS')\n",
        "plt.show()\n",
        "#In cluster analysis, the elbow method is a heuristic used in determining the number of clusters in a data set. \n",
        "#The method consists of plotting the explained variation as a function of the number of clusters, and picking the elbow of the curve as the number of clusters to use"
      ],
      "execution_count": null,
      "outputs": [
        {
          "output_type": "display_data",
          "data": {
            "image/png": "[encoded data removed]",
            "text/plain": [
              "<Figure size 432x288 with 1 Axes>"
            ]
          },
          "metadata": {
            "tags": [],
            "needs_background": "light"
          }
        }
      ]
    },
    {
      "cell_type": "code",
      "metadata": {
        "id": "CwNFx87-r6HE",
        "colab": {
          "base_uri": "https://localhost:8080/",
          "height": 312
        },
        "outputId": "2d801c85-c7aa-4377-cfce-a3a536aab5e5"
      },
      "source": [
        "kmeans = KMeans(n_clusters=2)\n",
        "pred_y = kmeans.fit_predict(X)\n",
        "\n",
        "plt.scatter(X[:, 0], X[:, 1], c=pred_y, s=50, cmap='viridis')\n",
        "\n",
        "centers = kmeans.cluster_centers_\n",
        "plt.scatter(centers[:, 0], centers[:, 1], c='black', s=200, alpha=0.5);\n",
        "plt.xlabel('# of interactions')\n",
        "plt.ylabel('hours active')\n",
        "plt.title('Two Cluster K-Means')"
      ],
      "execution_count": null,
      "outputs": [
        {
          "output_type": "execute_result",
          "data": {
            "text/plain": [
              "Text(0.5, 1.0, 'Two Cluster K-Means')"
            ]
          },
          "metadata": {
            "tags": []
          },
          "execution_count": 76
        },
        {
          "output_type": "display_data",
          "data": {
            "image/png": "[encoded data removed]",
            "text/plain": [
              "<Figure size 432x288 with 1 Axes>"
            ]
          },
          "metadata": {
            "tags": [],
            "needs_background": "light"
          }
        }
      ]
    },
    {
      "cell_type": "code",
      "metadata": {
        "id": "Y1IfghXJsrOR",
        "colab": {
          "base_uri": "https://localhost:8080/",
          "height": 312
        },
        "outputId": "2abf2c67-7402-45ec-93a9-ff56aa4b9d9b"
      },
      "source": [
        "kmeans = KMeans(n_clusters=4)\n",
        "pred_y = kmeans.fit_predict(X)\n",
        "\n",
        "plt.scatter(X[:, 0], X[:, 1], c=pred_y, s=50, cmap='viridis')\n",
        "\n",
        "centers = kmeans.cluster_centers_\n",
        "plt.scatter(centers[:, 0], centers[:, 1], c='black', s=200, alpha=0.5);\n",
        "plt.xlabel('# of interactions')\n",
        "plt.ylabel('hours active')\n",
        "plt.title('Four Cluster K-Means');"
      ],
      "execution_count": null,
      "outputs": [
        {
          "output_type": "execute_result",
          "data": {
            "text/plain": [
              "Text(0.5, 1.0, 'Four Cluster K-Means')"
            ]
          },
          "metadata": {
            "tags": []
          },
          "execution_count": 79
        },
        {
          "output_type": "display_data",
          "data": {
            "image/png": "[encoded data removed]",
            "text/plain": [
              "<Figure size 432x288 with 1 Axes>"
            ]
          },
          "metadata": {
            "tags": [],
            "needs_background": "light"
          }
        }
      ]
    }
  ]
}
