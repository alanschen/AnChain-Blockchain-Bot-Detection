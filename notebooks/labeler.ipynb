{
  "nbformat": 4,
  "nbformat_minor": 0,
  "metadata": {
    "colab": {
      "name": "bot-detection-label.ipynb",
      "provenance": [],
      "collapsed_sections": []
    },
    "kernelspec": {
      "name": "python3",
      "display_name": "Python 3"
    },
    "widgets": {
      "application/vnd.jupyter.widget-state+json": {
        "ff156cdf3f3f4d53a47537b8189c1188": {
          "model_module": "@jupyter-widgets/controls",
          "model_name": "HBoxModel",
          "state": {
            "_view_name": "HBoxView",
            "_dom_classes": [],
            "_model_name": "HBoxModel",
            "_view_module": "@jupyter-widgets/controls",
            "_model_module_version": "1.5.0",
            "_view_count": null,
            "_view_module_version": "1.5.0",
            "box_style": "",
            "layout": "IPY_MODEL_85017a34152340179e42388b97f5904b",
            "_model_module": "@jupyter-widgets/controls",
            "children": [
              "IPY_MODEL_f7cb68defb01483584b91eb2ded64207",
              "IPY_MODEL_de1b473181034a3ea2df7738b5793dbc",
              "IPY_MODEL_59946d64e1a34c488bd35a365a4e49e0"
            ]
          }
        },
        "85017a34152340179e42388b97f5904b": {
          "model_module": "@jupyter-widgets/base",
          "model_name": "LayoutModel",
          "state": {
            "_view_name": "LayoutView",
            "grid_template_rows": null,
            "right": null,
            "justify_content": null,
            "_view_module": "@jupyter-widgets/base",
            "overflow": null,
            "_model_module_version": "1.2.0",
            "_view_count": null,
            "flex_flow": null,
            "width": null,
            "min_width": null,
            "border": null,
            "align_items": null,
            "bottom": null,
            "_model_module": "@jupyter-widgets/base",
            "top": null,
            "grid_column": null,
            "overflow_y": null,
            "overflow_x": null,
            "grid_auto_flow": null,
            "grid_area": null,
            "grid_template_columns": null,
            "flex": null,
            "_model_name": "LayoutModel",
            "justify_items": null,
            "grid_row": null,
            "max_height": null,
            "align_content": null,
            "visibility": null,
            "align_self": null,
            "height": null,
            "min_height": null,
            "padding": null,
            "grid_auto_rows": null,
            "grid_gap": null,
            "max_width": null,
            "order": null,
            "_view_module_version": "1.2.0",
            "grid_template_areas": null,
            "object_position": null,
            "object_fit": null,
            "grid_auto_columns": null,
            "margin": null,
            "display": null,
            "left": null
          }
        },
        "f7cb68defb01483584b91eb2ded64207": {
          "model_module": "@jupyter-widgets/controls",
          "model_name": "ButtonModel",
          "state": {
            "_view_name": "ButtonView",
            "style": "IPY_MODEL_d1c14bc1229f47b8be26bcd5b7307b67",
            "_dom_classes": [],
            "description": "BOT",
            "_model_name": "ButtonModel",
            "button_style": "",
            "_view_module": "@jupyter-widgets/controls",
            "_model_module_version": "1.5.0",
            "tooltip": "",
            "_view_count": null,
            "disabled": false,
            "_view_module_version": "1.5.0",
            "layout": "IPY_MODEL_aab946fd4e8d4270ae9ed7b2f58b46a5",
            "_model_module": "@jupyter-widgets/controls",
            "icon": ""
          }
        },
        "de1b473181034a3ea2df7738b5793dbc": {
          "model_module": "@jupyter-widgets/controls",
          "model_name": "ButtonModel",
          "state": {
            "_view_name": "ButtonView",
            "style": "IPY_MODEL_24621b45871846ec9cd013270e14e4ff",
            "_dom_classes": [],
            "description": "HUMAN",
            "_model_name": "ButtonModel",
            "button_style": "",
            "_view_module": "@jupyter-widgets/controls",
            "_model_module_version": "1.5.0",
            "tooltip": "",
            "_view_count": null,
            "disabled": false,
            "_view_module_version": "1.5.0",
            "layout": "IPY_MODEL_5c50a7eb4447467ca6b07b85205af62e",
            "_model_module": "@jupyter-widgets/controls",
            "icon": ""
          }
        },
        "59946d64e1a34c488bd35a365a4e49e0": {
          "model_module": "@jupyter-widgets/controls",
          "model_name": "ButtonModel",
          "state": {
            "_view_name": "ButtonView",
            "style": "IPY_MODEL_1f26fc1762944803b5eef6e49c0f7e3b",
            "_dom_classes": [],
            "description": "BACKTRACK",
            "_model_name": "ButtonModel",
            "button_style": "",
            "_view_module": "@jupyter-widgets/controls",
            "_model_module_version": "1.5.0",
            "tooltip": "",
            "_view_count": null,
            "disabled": false,
            "_view_module_version": "1.5.0",
            "layout": "IPY_MODEL_1bcb74bc012d409b91469c5258dc3219",
            "_model_module": "@jupyter-widgets/controls",
            "icon": ""
          }
        },
        "d1c14bc1229f47b8be26bcd5b7307b67": {
          "model_module": "@jupyter-widgets/controls",
          "model_name": "ButtonStyleModel",
          "state": {
            "_view_name": "StyleView",
            "_model_name": "ButtonStyleModel",
            "_view_module": "@jupyter-widgets/base",
            "_model_module_version": "1.5.0",
            "_view_count": null,
            "button_color": null,
            "font_weight": "",
            "_view_module_version": "1.2.0",
            "_model_module": "@jupyter-widgets/controls"
          }
        },
        "aab946fd4e8d4270ae9ed7b2f58b46a5": {
          "model_module": "@jupyter-widgets/base",
          "model_name": "LayoutModel",
          "state": {
            "_view_name": "LayoutView",
            "grid_template_rows": null,
            "right": null,
            "justify_content": null,
            "_view_module": "@jupyter-widgets/base",
            "overflow": null,
            "_model_module_version": "1.2.0",
            "_view_count": null,
            "flex_flow": null,
            "width": null,
            "min_width": null,
            "border": null,
            "align_items": null,
            "bottom": null,
            "_model_module": "@jupyter-widgets/base",
            "top": null,
            "grid_column": null,
            "overflow_y": null,
            "overflow_x": null,
            "grid_auto_flow": null,
            "grid_area": null,
            "grid_template_columns": null,
            "flex": null,
            "_model_name": "LayoutModel",
            "justify_items": null,
            "grid_row": null,
            "max_height": null,
            "align_content": null,
            "visibility": null,
            "align_self": null,
            "height": null,
            "min_height": null,
            "padding": null,
            "grid_auto_rows": null,
            "grid_gap": null,
            "max_width": null,
            "order": null,
            "_view_module_version": "1.2.0",
            "grid_template_areas": null,
            "object_position": null,
            "object_fit": null,
            "grid_auto_columns": null,
            "margin": null,
            "display": null,
            "left": null
          }
        },
        "24621b45871846ec9cd013270e14e4ff": {
          "model_module": "@jupyter-widgets/controls",
          "model_name": "ButtonStyleModel",
          "state": {
            "_view_name": "StyleView",
            "_model_name": "ButtonStyleModel",
            "_view_module": "@jupyter-widgets/base",
            "_model_module_version": "1.5.0",
            "_view_count": null,
            "button_color": null,
            "font_weight": "",
            "_view_module_version": "1.2.0",
            "_model_module": "@jupyter-widgets/controls"
          }
        },
        "5c50a7eb4447467ca6b07b85205af62e": {
          "model_module": "@jupyter-widgets/base",
          "model_name": "LayoutModel",
          "state": {
            "_view_name": "LayoutView",
            "grid_template_rows": null,
            "right": null,
            "justify_content": null,
            "_view_module": "@jupyter-widgets/base",
            "overflow": null,
            "_model_module_version": "1.2.0",
            "_view_count": null,
            "flex_flow": null,
            "width": null,
            "min_width": null,
            "border": null,
            "align_items": null,
            "bottom": null,
            "_model_module": "@jupyter-widgets/base",
            "top": null,
            "grid_column": null,
            "overflow_y": null,
            "overflow_x": null,
            "grid_auto_flow": null,
            "grid_area": null,
            "grid_template_columns": null,
            "flex": null,
            "_model_name": "LayoutModel",
            "justify_items": null,
            "grid_row": null,
            "max_height": null,
            "align_content": null,
            "visibility": null,
            "align_self": null,
            "height": null,
            "min_height": null,
            "padding": null,
            "grid_auto_rows": null,
            "grid_gap": null,
            "max_width": null,
            "order": null,
            "_view_module_version": "1.2.0",
            "grid_template_areas": null,
            "object_position": null,
            "object_fit": null,
            "grid_auto_columns": null,
            "margin": null,
            "display": null,
            "left": null
          }
        },
        "1f26fc1762944803b5eef6e49c0f7e3b": {
          "model_module": "@jupyter-widgets/controls",
          "model_name": "ButtonStyleModel",
          "state": {
            "_view_name": "StyleView",
            "_model_name": "ButtonStyleModel",
            "_view_module": "@jupyter-widgets/base",
            "_model_module_version": "1.5.0",
            "_view_count": null,
            "button_color": null,
            "font_weight": "",
            "_view_module_version": "1.2.0",
            "_model_module": "@jupyter-widgets/controls"
          }
        },
        "1bcb74bc012d409b91469c5258dc3219": {
          "model_module": "@jupyter-widgets/base",
          "model_name": "LayoutModel",
          "state": {
            "_view_name": "LayoutView",
            "grid_template_rows": null,
            "right": null,
            "justify_content": null,
            "_view_module": "@jupyter-widgets/base",
            "overflow": null,
            "_model_module_version": "1.2.0",
            "_view_count": null,
            "flex_flow": null,
            "width": null,
            "min_width": null,
            "border": null,
            "align_items": null,
            "bottom": null,
            "_model_module": "@jupyter-widgets/base",
            "top": null,
            "grid_column": null,
            "overflow_y": null,
            "overflow_x": null,
            "grid_auto_flow": null,
            "grid_area": null,
            "grid_template_columns": null,
            "flex": null,
            "_model_name": "LayoutModel",
            "justify_items": null,
            "grid_row": null,
            "max_height": null,
            "align_content": null,
            "visibility": null,
            "align_self": null,
            "height": null,
            "min_height": null,
            "padding": null,
            "grid_auto_rows": null,
            "grid_gap": null,
            "max_width": null,
            "order": null,
            "_view_module_version": "1.2.0",
            "grid_template_areas": null,
            "object_position": null,
            "object_fit": null,
            "grid_auto_columns": null,
            "margin": null,
            "display": null,
            "left": null
          }
        },
        "714645983a234f948b466244dee69ba0": {
          "model_module": "@jupyter-widgets/controls",
          "model_name": "HBoxModel",
          "state": {
            "_view_name": "HBoxView",
            "_dom_classes": [],
            "_model_name": "HBoxModel",
            "_view_module": "@jupyter-widgets/controls",
            "_model_module_version": "1.5.0",
            "_view_count": null,
            "_view_module_version": "1.5.0",
            "box_style": "",
            "layout": "IPY_MODEL_31be2e4654d94d7581201b74ddf9c1fa",
            "_model_module": "@jupyter-widgets/controls",
            "children": [
              "IPY_MODEL_f7cb68defb01483584b91eb2ded64207",
              "IPY_MODEL_de1b473181034a3ea2df7738b5793dbc",
              "IPY_MODEL_59946d64e1a34c488bd35a365a4e49e0"
            ]
          }
        },
        "31be2e4654d94d7581201b74ddf9c1fa": {
          "model_module": "@jupyter-widgets/base",
          "model_name": "LayoutModel",
          "state": {
            "_view_name": "LayoutView",
            "grid_template_rows": null,
            "right": null,
            "justify_content": null,
            "_view_module": "@jupyter-widgets/base",
            "overflow": null,
            "_model_module_version": "1.2.0",
            "_view_count": null,
            "flex_flow": null,
            "width": null,
            "min_width": null,
            "border": null,
            "align_items": null,
            "bottom": null,
            "_model_module": "@jupyter-widgets/base",
            "top": null,
            "grid_column": null,
            "overflow_y": null,
            "overflow_x": null,
            "grid_auto_flow": null,
            "grid_area": null,
            "grid_template_columns": null,
            "flex": null,
            "_model_name": "LayoutModel",
            "justify_items": null,
            "grid_row": null,
            "max_height": null,
            "align_content": null,
            "visibility": null,
            "align_self": null,
            "height": null,
            "min_height": null,
            "padding": null,
            "grid_auto_rows": null,
            "grid_gap": null,
            "max_width": null,
            "order": null,
            "_view_module_version": "1.2.0",
            "grid_template_areas": null,
            "object_position": null,
            "object_fit": null,
            "grid_auto_columns": null,
            "margin": null,
            "display": null,
            "left": null
          }
        },
        "9b4365a004dd4caf81e7622d52b42e3b": {
          "model_module": "@jupyter-widgets/controls",
          "model_name": "HBoxModel",
          "state": {
            "_view_name": "HBoxView",
            "_dom_classes": [],
            "_model_name": "HBoxModel",
            "_view_module": "@jupyter-widgets/controls",
            "_model_module_version": "1.5.0",
            "_view_count": null,
            "_view_module_version": "1.5.0",
            "box_style": "",
            "layout": "IPY_MODEL_3d21f421178340a7a7a5bcbcab1b3181",
            "_model_module": "@jupyter-widgets/controls",
            "children": [
              "IPY_MODEL_f7cb68defb01483584b91eb2ded64207",
              "IPY_MODEL_de1b473181034a3ea2df7738b5793dbc",
              "IPY_MODEL_59946d64e1a34c488bd35a365a4e49e0"
            ]
          }
        },
        "3d21f421178340a7a7a5bcbcab1b3181": {
          "model_module": "@jupyter-widgets/base",
          "model_name": "LayoutModel",
          "state": {
            "_view_name": "LayoutView",
            "grid_template_rows": null,
            "right": null,
            "justify_content": null,
            "_view_module": "@jupyter-widgets/base",
            "overflow": null,
            "_model_module_version": "1.2.0",
            "_view_count": null,
            "flex_flow": null,
            "width": null,
            "min_width": null,
            "border": null,
            "align_items": null,
            "bottom": null,
            "_model_module": "@jupyter-widgets/base",
            "top": null,
            "grid_column": null,
            "overflow_y": null,
            "overflow_x": null,
            "grid_auto_flow": null,
            "grid_area": null,
            "grid_template_columns": null,
            "flex": null,
            "_model_name": "LayoutModel",
            "justify_items": null,
            "grid_row": null,
            "max_height": null,
            "align_content": null,
            "visibility": null,
            "align_self": null,
            "height": null,
            "min_height": null,
            "padding": null,
            "grid_auto_rows": null,
            "grid_gap": null,
            "max_width": null,
            "order": null,
            "_view_module_version": "1.2.0",
            "grid_template_areas": null,
            "object_position": null,
            "object_fit": null,
            "grid_auto_columns": null,
            "margin": null,
            "display": null,
            "left": null
          }
        },
        "42109e5cfe0141589562e2ce2068f0dd": {
          "model_module": "@jupyter-widgets/controls",
          "model_name": "HBoxModel",
          "state": {
            "_view_name": "HBoxView",
            "_dom_classes": [],
            "_model_name": "HBoxModel",
            "_view_module": "@jupyter-widgets/controls",
            "_model_module_version": "1.5.0",
            "_view_count": null,
            "_view_module_version": "1.5.0",
            "box_style": "",
            "layout": "IPY_MODEL_b16a39bb3aee4cffbab30da34afd2ec6",
            "_model_module": "@jupyter-widgets/controls",
            "children": [
              "IPY_MODEL_f7cb68defb01483584b91eb2ded64207",
              "IPY_MODEL_de1b473181034a3ea2df7738b5793dbc",
              "IPY_MODEL_59946d64e1a34c488bd35a365a4e49e0"
            ]
          }
        },
        "b16a39bb3aee4cffbab30da34afd2ec6": {
          "model_module": "@jupyter-widgets/base",
          "model_name": "LayoutModel",
          "state": {
            "_view_name": "LayoutView",
            "grid_template_rows": null,
            "right": null,
            "justify_content": null,
            "_view_module": "@jupyter-widgets/base",
            "overflow": null,
            "_model_module_version": "1.2.0",
            "_view_count": null,
            "flex_flow": null,
            "width": null,
            "min_width": null,
            "border": null,
            "align_items": null,
            "bottom": null,
            "_model_module": "@jupyter-widgets/base",
            "top": null,
            "grid_column": null,
            "overflow_y": null,
            "overflow_x": null,
            "grid_auto_flow": null,
            "grid_area": null,
            "grid_template_columns": null,
            "flex": null,
            "_model_name": "LayoutModel",
            "justify_items": null,
            "grid_row": null,
            "max_height": null,
            "align_content": null,
            "visibility": null,
            "align_self": null,
            "height": null,
            "min_height": null,
            "padding": null,
            "grid_auto_rows": null,
            "grid_gap": null,
            "max_width": null,
            "order": null,
            "_view_module_version": "1.2.0",
            "grid_template_areas": null,
            "object_position": null,
            "object_fit": null,
            "grid_auto_columns": null,
            "margin": null,
            "display": null,
            "left": null
          }
        }
      }
    }
  },
  "cells": [
    {
      "cell_type": "code",
      "metadata": {
        "id": "ER9yshjqh2fH"
      },
      "source": [
        "import pandas as pd\n",
        "import numpy as np\n",
        "\n",
        "from os import path\n",
        "import os, zipfile\n",
        "import matplotlib.pyplot as plt\n",
        "import seaborn as sns\n",
        "\n",
        "from datetime import datetime\n",
        "from ipywidgets import Button, HBox, VBox\n",
        "import ipywidgets as widgets\n",
        "from IPython.display import FileLink, FileLinks\n",
        "from IPython.display import display, clear_output"
      ],
      "execution_count": null,
      "outputs": []
    },
    {
      "cell_type": "markdown",
      "metadata": {
        "id": "0_e_VpAy3Sjf"
      },
      "source": [
        "# 1. Make sure to upload your `endlessdice-201903.zip` to root folder in Google Drive.\n",
        "1. Download from Victor's email chain.\n",
        "2. Go to Google Drive\n",
        "3. New+ -> File upload -> *upload the file* `endlessdice-201903.zip`\n",
        "\n",
        "#### NOTE: only run the following cell once, if you hit an error, you have to hit Runtime -> Factory Reset Runtime\n",
        "1. It will ask for a link, make sure to accept with the google drive you uploaded the zip to.\n",
        "2. Hit accept, copy the pass-string, then copy it back to the notebook."
      ]
    },
    {
      "cell_type": "code",
      "metadata": {
        "id": "xNWaK_eKh4iL"
      },
      "source": [
        "from google.colab import drive\n",
        "drive.mount('/content/gdrive', force_remount=True)\n",
        "%cd gdrive/'My Drive'"
      ],
      "execution_count": null,
      "outputs": []
    },
    {
      "cell_type": "markdown",
      "metadata": {
        "id": "uPGyubFy4PG3"
      },
      "source": [
        "2. Import Data to Colab, just run the cell. It will take a while"
      ]
    },
    {
      "cell_type": "code",
      "metadata": {
        "id": "UgawwoM8h8jc",
        "colab": {
          "base_uri": "https://localhost:8080/",
          "height": 464
        },
        "outputId": "7f622169-5321-435e-83ec-c8901953f489"
      },
      "source": [
        "def clean_file(file):\n",
        "    # the current version of clean_file only checks for \n",
        "    banks = ['eossuperplay', 'endlessbank1', 'endlessdicex', 'endlesscrash']\n",
        "    inspect = pd.read_json(file, lines=True)\n",
        "    inspect['auth_actor'] = inspect['authorization'].apply(lambda x: x[0]['actor'])\n",
        "    inspect['auth_perm'] = inspect['authorization'].apply(lambda x: x[0]['permission'])\n",
        "    inspect = inspect.drop(columns=['authorization'])\n",
        "    inspect = inspect[~inspect['d_to'].isin(banks)]\n",
        "    return inspect\n",
        "\n",
        "def summary(data):\n",
        "    for col in data.columns:\n",
        "        print(col)\n",
        "        display(data[col].value_counts())\n",
        "        print('\\n')\n",
        "\n",
        "archive = zipfile.ZipFile('endlessdice-201903.zip', 'r')\n",
        "\n",
        "# num_want is now many we want for now\n",
        "num_files, num_want = len(archive.namelist()), 20\n",
        "num_want = num_files\n",
        "\n",
        "combined = clean_file(archive.open(archive.namelist()[0]))\n",
        "for i, name in enumerate(archive.namelist()[1:]):\n",
        "    j = i + 1\n",
        "    if j % 10 == 1: \n",
        "        print(\"{} / {}\".format(j, num_want + 1))\n",
        "        print(name)\n",
        "    if j > num_want:\n",
        "        break\n",
        "    temp = clean_file(archive.open(name))\n",
        "    combined = combined.append(temp)\n",
        "print(\"finished\")\n",
        "\n",
        "temporal = combined[['d_to', 'trx_timestamp']].rename(columns={'d_to': 'user', 'trx_timestamp': 'time'})\n",
        "temporal['time'] = pd.to_datetime(temporal['time'])\n",
        "temporal['weekday'] = temporal['time'].dt.weekday\n",
        "temporal['hour'] = temporal['time'].dt.hour\n",
        "temporal.head()"
      ],
      "execution_count": null,
      "outputs": [
        {
          "output_type": "stream",
          "text": [
            "1 / 63\n",
            "actions-endlessbank1-20190302.json\n",
            "11 / 63\n",
            "actions-endlessbank1-20190312.json\n",
            "21 / 63\n",
            "actions-endlessbank1-20190322.json\n",
            "31 / 63\n",
            "actions-endlessdicex-20190301.json\n",
            "41 / 63\n",
            "actions-endlessdicex-20190311.json\n",
            "51 / 63\n",
            "actions-endlessdicex-20190321.json\n",
            "61 / 63\n",
            "actions-endlessdicex-20190331.json\n",
            "finished\n"
          ],
          "name": "stdout"
        },
        {
          "output_type": "execute_result",
          "data": {
            "text/html": [
              "<div>\n",
              "<style scoped>\n",
              "    .dataframe tbody tr th:only-of-type {\n",
              "        vertical-align: middle;\n",
              "    }\n",
              "\n",
              "    .dataframe tbody tr th {\n",
              "        vertical-align: top;\n",
              "    }\n",
              "\n",
              "    .dataframe thead th {\n",
              "        text-align: right;\n",
              "    }\n",
              "</style>\n",
              "<table border=\"1\" class=\"dataframe\">\n",
              "  <thead>\n",
              "    <tr style=\"text-align: right;\">\n",
              "      <th></th>\n",
              "      <th>user</th>\n",
              "      <th>time</th>\n",
              "      <th>weekday</th>\n",
              "      <th>hour</th>\n",
              "    </tr>\n",
              "  </thead>\n",
              "  <tbody>\n",
              "    <tr>\n",
              "      <th>1</th>\n",
              "      <td>nmslnmslnmsl</td>\n",
              "      <td>2019-03-01 00:00:00</td>\n",
              "      <td>4</td>\n",
              "      <td>0</td>\n",
              "    </tr>\n",
              "    <tr>\n",
              "      <th>3</th>\n",
              "      <td>justiceariel</td>\n",
              "      <td>2019-03-01 00:00:03</td>\n",
              "      <td>4</td>\n",
              "      <td>0</td>\n",
              "    </tr>\n",
              "    <tr>\n",
              "      <th>5</th>\n",
              "      <td>edgarwinston</td>\n",
              "      <td>2019-03-01 00:00:08</td>\n",
              "      <td>4</td>\n",
              "      <td>0</td>\n",
              "    </tr>\n",
              "    <tr>\n",
              "      <th>9</th>\n",
              "      <td>raidenkeegan</td>\n",
              "      <td>2019-03-01 00:00:11</td>\n",
              "      <td>4</td>\n",
              "      <td>0</td>\n",
              "    </tr>\n",
              "    <tr>\n",
              "      <th>11</th>\n",
              "      <td>nmslnmslnmsl</td>\n",
              "      <td>2019-03-01 00:00:11</td>\n",
              "      <td>4</td>\n",
              "      <td>0</td>\n",
              "    </tr>\n",
              "  </tbody>\n",
              "</table>\n",
              "</div>"
            ],
            "text/plain": [
              "            user                time  weekday  hour\n",
              "1   nmslnmslnmsl 2019-03-01 00:00:00        4     0\n",
              "3   justiceariel 2019-03-01 00:00:03        4     0\n",
              "5   edgarwinston 2019-03-01 00:00:08        4     0\n",
              "9   raidenkeegan 2019-03-01 00:00:11        4     0\n",
              "11  nmslnmslnmsl 2019-03-01 00:00:11        4     0"
            ]
          },
          "metadata": {
            "tags": []
          },
          "execution_count": 3
        }
      ]
    },
    {
      "cell_type": "code",
      "metadata": {
        "id": "8AEn3WhRbn7J"
      },
      "source": [
        "temporal.to_csv('temporal-only.csv', index=False, header=False)"
      ],
      "execution_count": null,
      "outputs": []
    },
    {
      "cell_type": "markdown",
      "metadata": {
        "id": "bZedcFwn4r-9"
      },
      "source": [
        "Ignore this. This just filters some entries based on a limit, which we currently only set to 1 because clearly if someone makes only one transaction, we have no information."
      ]
    },
    {
      "cell_type": "code",
      "metadata": {
        "id": "PCYvzLqPh60u",
        "colab": {
          "base_uri": "https://localhost:8080/"
        },
        "outputId": "023d7568-8f98-4496-9151-95ab78bbf3b1"
      },
      "source": [
        "obvious_bots = pd.read_csv('https://raw.githubusercontent.com/griffinbaum22/bot_detection/main/obvious_bots').obvious_bots.values\n",
        "len(obvious_bots)"
      ],
      "execution_count": null,
      "outputs": [
        {
          "output_type": "execute_result",
          "data": {
            "text/plain": [
              "988"
            ]
          },
          "metadata": {
            "tags": []
          },
          "execution_count": 5
        }
      ]
    },
    {
      "cell_type": "code",
      "metadata": {
        "id": "grvBkZAIiHB7",
        "colab": {
          "base_uri": "https://localhost:8080/",
          "height": 406
        },
        "outputId": "722c3501-1724-4135-9657-4d34f1e31109"
      },
      "source": [
        "limit = 1\n",
        "\n",
        "only_once = temporal.groupby('user').agg('count')[['time']]\n",
        "display(temporal)\n",
        "only_once = only_once[only_once['time'] <= limit].index\n",
        "\n",
        "temporal = temporal[~temporal['user'].isin(only_once)]\n",
        "times = temporal['time']\n",
        "obvious_bots = pd.read_csv('https://raw.githubusercontent.com/griffinbaum22/bot_detection/main/obvious_bots').obvious_bots.values\n",
        "# temporal = temporal[~temporal['user'].isin(obvious_bots)]"
      ],
      "execution_count": null,
      "outputs": [
        {
          "output_type": "display_data",
          "data": {
            "text/html": [
              "<div>\n",
              "<style scoped>\n",
              "    .dataframe tbody tr th:only-of-type {\n",
              "        vertical-align: middle;\n",
              "    }\n",
              "\n",
              "    .dataframe tbody tr th {\n",
              "        vertical-align: top;\n",
              "    }\n",
              "\n",
              "    .dataframe thead th {\n",
              "        text-align: right;\n",
              "    }\n",
              "</style>\n",
              "<table border=\"1\" class=\"dataframe\">\n",
              "  <thead>\n",
              "    <tr style=\"text-align: right;\">\n",
              "      <th></th>\n",
              "      <th>user</th>\n",
              "      <th>time</th>\n",
              "      <th>weekday</th>\n",
              "      <th>hour</th>\n",
              "    </tr>\n",
              "  </thead>\n",
              "  <tbody>\n",
              "    <tr>\n",
              "      <th>1</th>\n",
              "      <td>nmslnmslnmsl</td>\n",
              "      <td>2019-03-01 00:00:00.000</td>\n",
              "      <td>4</td>\n",
              "      <td>0</td>\n",
              "    </tr>\n",
              "    <tr>\n",
              "      <th>3</th>\n",
              "      <td>justiceariel</td>\n",
              "      <td>2019-03-01 00:00:03.000</td>\n",
              "      <td>4</td>\n",
              "      <td>0</td>\n",
              "    </tr>\n",
              "    <tr>\n",
              "      <th>5</th>\n",
              "      <td>edgarwinston</td>\n",
              "      <td>2019-03-01 00:00:08.000</td>\n",
              "      <td>4</td>\n",
              "      <td>0</td>\n",
              "    </tr>\n",
              "    <tr>\n",
              "      <th>9</th>\n",
              "      <td>raidenkeegan</td>\n",
              "      <td>2019-03-01 00:00:11.000</td>\n",
              "      <td>4</td>\n",
              "      <td>0</td>\n",
              "    </tr>\n",
              "    <tr>\n",
              "      <th>11</th>\n",
              "      <td>nmslnmslnmsl</td>\n",
              "      <td>2019-03-01 00:00:11.000</td>\n",
              "      <td>4</td>\n",
              "      <td>0</td>\n",
              "    </tr>\n",
              "    <tr>\n",
              "      <th>...</th>\n",
              "      <td>...</td>\n",
              "      <td>...</td>\n",
              "      <td>...</td>\n",
              "      <td>...</td>\n",
              "    </tr>\n",
              "    <tr>\n",
              "      <th>90274</th>\n",
              "      <td>endlessoptex</td>\n",
              "      <td>2019-03-31 23:59:57.500</td>\n",
              "      <td>6</td>\n",
              "      <td>23</td>\n",
              "    </tr>\n",
              "    <tr>\n",
              "      <th>90276</th>\n",
              "      <td>endlessdivdn</td>\n",
              "      <td>2019-03-31 23:59:57.500</td>\n",
              "      <td>6</td>\n",
              "      <td>23</td>\n",
              "    </tr>\n",
              "    <tr>\n",
              "      <th>90277</th>\n",
              "      <td>endlessoptex</td>\n",
              "      <td>2019-03-31 23:59:57.500</td>\n",
              "      <td>6</td>\n",
              "      <td>23</td>\n",
              "    </tr>\n",
              "    <tr>\n",
              "      <th>90279</th>\n",
              "      <td>endlessdivdn</td>\n",
              "      <td>2019-03-31 23:59:58.000</td>\n",
              "      <td>6</td>\n",
              "      <td>23</td>\n",
              "    </tr>\n",
              "    <tr>\n",
              "      <th>90280</th>\n",
              "      <td>endlessoptex</td>\n",
              "      <td>2019-03-31 23:59:58.000</td>\n",
              "      <td>6</td>\n",
              "      <td>23</td>\n",
              "    </tr>\n",
              "  </tbody>\n",
              "</table>\n",
              "<p>2108307 rows × 4 columns</p>\n",
              "</div>"
            ],
            "text/plain": [
              "               user                    time  weekday  hour\n",
              "1      nmslnmslnmsl 2019-03-01 00:00:00.000        4     0\n",
              "3      justiceariel 2019-03-01 00:00:03.000        4     0\n",
              "5      edgarwinston 2019-03-01 00:00:08.000        4     0\n",
              "9      raidenkeegan 2019-03-01 00:00:11.000        4     0\n",
              "11     nmslnmslnmsl 2019-03-01 00:00:11.000        4     0\n",
              "...             ...                     ...      ...   ...\n",
              "90274  endlessoptex 2019-03-31 23:59:57.500        6    23\n",
              "90276  endlessdivdn 2019-03-31 23:59:57.500        6    23\n",
              "90277  endlessoptex 2019-03-31 23:59:57.500        6    23\n",
              "90279  endlessdivdn 2019-03-31 23:59:58.000        6    23\n",
              "90280  endlessoptex 2019-03-31 23:59:58.000        6    23\n",
              "\n",
              "[2108307 rows x 4 columns]"
            ]
          },
          "metadata": {
            "tags": []
          }
        }
      ]
    },
    {
      "cell_type": "markdown",
      "metadata": {
        "id": "6yUyw17N44kB"
      },
      "source": [
        "Make sure the visualize function displays something normal. If it does, then everything is set up properly."
      ]
    },
    {
      "cell_type": "code",
      "metadata": {
        "id": "-YtTGDSnjK8C",
        "colab": {
          "base_uri": "https://localhost:8080/",
          "height": 413
        },
        "outputId": "6754396b-5307-4aca-efb1-4fb16032cea1"
      },
      "source": [
        "template = temporal[temporal['user'] == 'nmslnmslnmsl'].groupby(['weekday', 'hour']).agg('count')[['time']]\n",
        "template['time'] = 0\n",
        "def visualize_activity(user, center='mean', figsize=(10,6)):\n",
        "    if user not in set(temporal['user']):\n",
        "        print('{} DOES NOT EXIST'.format(user))\n",
        "        return\n",
        "\n",
        "    # pivot data, there are entries that are empty for now\n",
        "    pivot_temp = temporal[temporal['user'] == user].groupby(['weekday', 'hour']).agg('count')[['time']]\n",
        "\n",
        "    # we use nmslnmslnmsl as template since it has entry at every hour, merging with pivot data\n",
        "    # template = temporal[temporal['user'] == 'nmslnmslnmsl'].groupby(['weekday', 'hour']).agg('count')[['time']]\n",
        "    template_copy = template.copy()\n",
        "    template_copy['time'] = pivot_temp['time']\n",
        "    pivot_temp = template_copy.fillna(0)\n",
        "\n",
        "    # set mins and max\n",
        "    min_pivot, max_pivot = min(pivot_temp['time']), max(pivot_temp['time'])\n",
        "\n",
        "    # plot setting\n",
        "    pivot_temp = pd.pivot_table(data=pivot_temp,\n",
        "                                index='hour',\n",
        "                                columns='weekday',\n",
        "                                values='time')\n",
        "    plt.figure(figsize=figsize)\n",
        "    ax = sns.heatmap(pivot_temp, vmin=min_pivot, vmax=max_pivot,\n",
        "                    cmap = \"YlOrBr\",\n",
        "                    annot=True, fmt=\".1f\")\n",
        "    \n",
        "    # label\n",
        "    plt.title(\"Activity for User: {}\".format(user))\n",
        "    ax.set_xlabel('weekday').set_size(20)\n",
        "    ax.set_ylabel('hour').set_size(20)\n",
        "\n",
        "sample_name = 'ge4tcnrxgyge'\n",
        "visualize_activity(sample_name)"
      ],
      "execution_count": null,
      "outputs": [
        {
          "output_type": "display_data",
          "data": {
            "image/png": "[encoded data removed]",
            "text/plain": [
              "<Figure size 720x432 with 2 Axes>"
            ]
          },
          "metadata": {
            "tags": [],
            "needs_background": "light"
          }
        }
      ]
    },
    {
      "cell_type": "code",
      "metadata": {
        "id": "Nzzb9ikhakfL",
        "colab": {
          "base_uri": "https://localhost:8080/",
          "height": 406
        },
        "outputId": "b80546cd-0595-4277-c39f-67d0bb2ad37e"
      },
      "source": [
        "import pickle\n",
        "def convert_label(i):\n",
        "    if i == 0:\n",
        "        return 'bot'\n",
        "    return 'human'\n",
        "research_labels = pickle.load(open(\"groundTruth.pkl\", \"rb\"))\n",
        "research_labels['research'] = research_labels['label'].apply(convert_label)\n",
        "research_labels = research_labels[['name', 'research']]\n",
        "research_labels"
      ],
      "execution_count": null,
      "outputs": [
        {
          "output_type": "execute_result",
          "data": {
            "text/html": [
              "<div>\n",
              "<style scoped>\n",
              "    .dataframe tbody tr th:only-of-type {\n",
              "        vertical-align: middle;\n",
              "    }\n",
              "\n",
              "    .dataframe tbody tr th {\n",
              "        vertical-align: top;\n",
              "    }\n",
              "\n",
              "    .dataframe thead th {\n",
              "        text-align: right;\n",
              "    }\n",
              "</style>\n",
              "<table border=\"1\" class=\"dataframe\">\n",
              "  <thead>\n",
              "    <tr style=\"text-align: right;\">\n",
              "      <th></th>\n",
              "      <th>name</th>\n",
              "      <th>research</th>\n",
              "    </tr>\n",
              "  </thead>\n",
              "  <tbody>\n",
              "    <tr>\n",
              "      <th>0</th>\n",
              "      <td>linhuoyaneos</td>\n",
              "      <td>bot</td>\n",
              "    </tr>\n",
              "    <tr>\n",
              "      <th>1</th>\n",
              "      <td>g44dambxhage</td>\n",
              "      <td>bot</td>\n",
              "    </tr>\n",
              "    <tr>\n",
              "      <th>2</th>\n",
              "      <td>gm2dkmjtguge</td>\n",
              "      <td>bot</td>\n",
              "    </tr>\n",
              "    <tr>\n",
              "      <th>3</th>\n",
              "      <td>haydsnbugage</td>\n",
              "      <td>bot</td>\n",
              "    </tr>\n",
              "    <tr>\n",
              "      <th>4</th>\n",
              "      <td>gnb4pxctxnes</td>\n",
              "      <td>human</td>\n",
              "    </tr>\n",
              "    <tr>\n",
              "      <th>...</th>\n",
              "      <td>...</td>\n",
              "      <td>...</td>\n",
              "    </tr>\n",
              "    <tr>\n",
              "      <th>293765</th>\n",
              "      <td>pbufsvyruirs</td>\n",
              "      <td>human</td>\n",
              "    </tr>\n",
              "    <tr>\n",
              "      <th>293766</th>\n",
              "      <td>haytaobwgmge</td>\n",
              "      <td>bot</td>\n",
              "    </tr>\n",
              "    <tr>\n",
              "      <th>293767</th>\n",
              "      <td>qu2hp3mx4mte</td>\n",
              "      <td>bot</td>\n",
              "    </tr>\n",
              "    <tr>\n",
              "      <th>293768</th>\n",
              "      <td>gm3tenbwgqge</td>\n",
              "      <td>bot</td>\n",
              "    </tr>\n",
              "    <tr>\n",
              "      <th>293769</th>\n",
              "      <td>mileableelse</td>\n",
              "      <td>human</td>\n",
              "    </tr>\n",
              "  </tbody>\n",
              "</table>\n",
              "<p>293770 rows × 2 columns</p>\n",
              "</div>"
            ],
            "text/plain": [
              "                name research\n",
              "0       linhuoyaneos      bot\n",
              "1       g44dambxhage      bot\n",
              "2       gm2dkmjtguge      bot\n",
              "3       haydsnbugage      bot\n",
              "4       gnb4pxctxnes    human\n",
              "...              ...      ...\n",
              "293765  pbufsvyruirs    human\n",
              "293766  haytaobwgmge      bot\n",
              "293767  qu2hp3mx4mte      bot\n",
              "293768  gm3tenbwgqge      bot\n",
              "293769  mileableelse    human\n",
              "\n",
              "[293770 rows x 2 columns]"
            ]
          },
          "metadata": {
            "tags": []
          },
          "execution_count": 6
        }
      ]
    },
    {
      "cell_type": "code",
      "metadata": {
        "id": "t7id5VbP7V0v",
        "colab": {
          "base_uri": "https://localhost:8080/",
          "height": 1000
        },
        "outputId": "d2b969aa-5d59-4a26-e5b0-67a056ce53bb"
      },
      "source": [
        "bots = ['edgarwinston',\n",
        "        'Griffinhamza',\n",
        "        'jacksonjimmy',\n",
        "        '1ffyqhg4rmbk',\n",
        "        'powellernest',\n",
        "        '2rezoaf4bhly',\n",
        "        'nckj42dit5sb',\n",
        "        'scottphillip',\n",
        "        'oepa252sdx4p',\n",
        "        'myh2o4wayvxg']\n",
        "for bot in bots:\n",
        "    visualize_activity(bot)"
      ],
      "execution_count": null,
      "outputs": [
        {
          "output_type": "stream",
          "text": [
            "Griffinhamza DOES NOT EXIST\n",
            "jacksonjimmy DOES NOT EXIST\n",
            "powellernest DOES NOT EXIST\n",
            "2rezoaf4bhly DOES NOT EXIST\n",
            "scottphillip DOES NOT EXIST\n",
            "oepa252sdx4p DOES NOT EXIST\n",
            "myh2o4wayvxg DOES NOT EXIST\n"
          ],
          "name": "stdout"
        },
        {
          "output_type": "display_data",
          "data": {
            "image/png": "[encoded data removed]",
            "text/plain": [
              "<Figure size 720x432 with 2 Axes>"
            ]
          },
          "metadata": {
            "tags": [],
            "needs_background": "light"
          }
        },
        {
          "output_type": "display_data",
          "data": {
            "image/png": "[encoded data removed]",
            "text/plain": [
              "<Figure size 720x432 with 2 Axes>"
            ]
          },
          "metadata": {
            "tags": [],
            "needs_background": "light"
          }
        },
        {
          "output_type": "display_data",
          "data": {
            "image/png": "[encoded data removed]",
            "text/plain": [
              "<Figure size 720x432 with 2 Axes>"
            ]
          },
          "metadata": {
            "tags": [],
            "needs_background": "light"
          }
        }
      ]
    },
    {
      "cell_type": "markdown",
      "metadata": {
        "id": "9vyTqpy04_Os"
      },
      "source": [
        "#Important: Change your name from `alan` to your lower-case name"
      ]
    },
    {
      "cell_type": "code",
      "metadata": {
        "id": "QoxgKAUPjNey"
      },
      "source": [
        "name = 'alan'"
      ],
      "execution_count": null,
      "outputs": []
    },
    {
      "cell_type": "markdown",
      "metadata": {
        "id": "Nc1VvLfH5GCa"
      },
      "source": [
        "This cell will automatically import any previously labelled data from `alan_labels.csv` in the same Google Drive. Assuming you successfully imported earlier, this should work"
      ]
    },
    {
      "cell_type": "code",
      "metadata": {
        "id": "-JdoTV1BjO3e",
        "colab": {
          "base_uri": "https://localhost:8080/",
          "height": 215
        },
        "outputId": "8e71e522-0875-4e24-fc0d-e65a6fdbfff6"
      },
      "source": [
        "csv_name = name + \"_labels.csv\"\n",
        "# do not change this line\n",
        "if path.exists(csv_name):\n",
        "    label_df = pd.read_csv(csv_name, names=['name', 'user', 'time', 'label'])\n",
        "else:\n",
        "    label_df = pd.DataFrame(columns=['name', 'user', 'time', 'label'])\n",
        "    \n",
        "print(\"This is the last 5 datapoints you labelled!\")\n",
        "display(label_df.tail())"
      ],
      "execution_count": null,
      "outputs": [
        {
          "output_type": "stream",
          "text": [
            "This is the last 5 datapoints you labelled!\n"
          ],
          "name": "stdout"
        },
        {
          "output_type": "display_data",
          "data": {
            "text/html": [
              "<div>\n",
              "<style scoped>\n",
              "    .dataframe tbody tr th:only-of-type {\n",
              "        vertical-align: middle;\n",
              "    }\n",
              "\n",
              "    .dataframe tbody tr th {\n",
              "        vertical-align: top;\n",
              "    }\n",
              "\n",
              "    .dataframe thead th {\n",
              "        text-align: right;\n",
              "    }\n",
              "</style>\n",
              "<table border=\"1\" class=\"dataframe\">\n",
              "  <thead>\n",
              "    <tr style=\"text-align: right;\">\n",
              "      <th></th>\n",
              "      <th>name</th>\n",
              "      <th>user</th>\n",
              "      <th>time</th>\n",
              "      <th>label</th>\n",
              "    </tr>\n",
              "  </thead>\n",
              "  <tbody>\n",
              "    <tr>\n",
              "      <th>18</th>\n",
              "      <td>alan</td>\n",
              "      <td>kzcjigswqx5g</td>\n",
              "      <td>2020-10-23 21:47:56.806619</td>\n",
              "      <td>bot</td>\n",
              "    </tr>\n",
              "    <tr>\n",
              "      <th>19</th>\n",
              "      <td>alan</td>\n",
              "      <td>hwiyeong1234</td>\n",
              "      <td>2020-10-23 21:48:26.024492</td>\n",
              "      <td>human</td>\n",
              "    </tr>\n",
              "    <tr>\n",
              "      <th>20</th>\n",
              "      <td>alan</td>\n",
              "      <td>x54hucxpjxnp</td>\n",
              "      <td>2020-10-23 21:48:51.875438</td>\n",
              "      <td>bot</td>\n",
              "    </tr>\n",
              "    <tr>\n",
              "      <th>21</th>\n",
              "      <td>alan</td>\n",
              "      <td>w2hfwswlfj5x</td>\n",
              "      <td>2020-10-23 21:52:25.328244</td>\n",
              "      <td>bot</td>\n",
              "    </tr>\n",
              "    <tr>\n",
              "      <th>22</th>\n",
              "      <td>alan</td>\n",
              "      <td>tduokll4tqy2</td>\n",
              "      <td>2020-10-27 23:39:21.421277</td>\n",
              "      <td>bot</td>\n",
              "    </tr>\n",
              "  </tbody>\n",
              "</table>\n",
              "</div>"
            ],
            "text/plain": [
              "    name          user                        time  label\n",
              "18  alan  kzcjigswqx5g  2020-10-23 21:47:56.806619    bot\n",
              "19  alan  hwiyeong1234  2020-10-23 21:48:26.024492  human\n",
              "20  alan  x54hucxpjxnp  2020-10-23 21:48:51.875438    bot\n",
              "21  alan  w2hfwswlfj5x  2020-10-23 21:52:25.328244    bot\n",
              "22  alan  tduokll4tqy2  2020-10-27 23:39:21.421277    bot"
            ]
          },
          "metadata": {
            "tags": []
          }
        }
      ]
    },
    {
      "cell_type": "markdown",
      "metadata": {
        "id": "qAWAVb2C5aJ-"
      },
      "source": [
        "Code for labelling widgets. Don't change"
      ]
    },
    {
      "cell_type": "code",
      "metadata": {
        "id": "ZYdB75oBjRY_"
      },
      "source": [
        "bot_button = widgets.Button(description=\"BOT\")\n",
        "hum_button = widgets.Button(description=\"HUMAN\")\n",
        "bac_button = widgets.Button(description=\"BACKTRACK\")\n",
        "\n",
        "user = 'nmslnmslnmsl'\n",
        "\n",
        "def suggest_user():\n",
        "    global user\n",
        "    user = np.random.choice(list(set(temporal['user'])))\n",
        "\n",
        "def write_entry(user, decision):\n",
        "    num_rows = label_df.shape[0]\n",
        "    label_df.loc[num_rows] = [name, user, datetime.now(), decision]\n",
        "\n",
        "def bot_classified(b):\n",
        "    clear_output(wait=False)\n",
        "    write_entry(user, 'bot')\n",
        "    display(label_df.tail(1))\n",
        "    \n",
        "    display(\"Classified as Bot: {}\".format(user))\n",
        "    suggest_user()\n",
        "    display(\"current user = {}\".format(user))\n",
        "    visualize_activity(user)\n",
        "    display(HBox([bot_button, hum_button, bac_button]))\n",
        "    \n",
        "def human_classified(b):\n",
        "    clear_output(wait=False)\n",
        "    write_entry(user, 'human')\n",
        "    display(label_df.tail(1))\n",
        "    \n",
        "    display(\"Classified as Human: {}\".format(user))\n",
        "    suggest_user()\n",
        "    display(\"current user = {}\".format(user))\n",
        "    visualize_activity(user)\n",
        "    display(HBox([bot_button, hum_button, bac_button]))\n",
        "    \n",
        "def drop_row(b):\n",
        "    clear_output(wait=False)\n",
        "    label_df.drop(label_df.tail(1).index,inplace=True)\n",
        "    display(label_df.tail(1))\n",
        "    \n",
        "    display(\"BACKTRACKED: DELETED USER LAST ENTERED\".format(user))\n",
        "    suggest_user()\n",
        "    display(\"current user = {}\".format(user))\n",
        "    visualize_activity(user)\n",
        "    display(HBox([bot_button, hum_button, bac_button]))\n",
        "    \n",
        "bot_button.on_click(bot_classified)\n",
        "hum_button.on_click(human_classified)\n",
        "bac_button.on_click(drop_row)"
      ],
      "execution_count": null,
      "outputs": []
    },
    {
      "cell_type": "markdown",
      "metadata": {
        "id": "80UU-FNU5fIt"
      },
      "source": [
        "# Your Task: Label Data Here. \n",
        "# Ideally at least 200-300 entries since we want to use majority vote from members.\n",
        "1. You only need to run the cell once.\n",
        "2. Click `BOT` or `HUMAN` to label the `current user`\n",
        "3. After you click, the next user to label will be automatically loaded. You should also be able your last entry label.\n",
        "4. If you misclassified, hit `BACKTRACK`. You will not get the same user when you hit `BACKTRACK` though.\n",
        "\n",
        "### Important: \n",
        "1. If you are not sure if it is a bot, just make a good guess. \n",
        "2. Sometimes there are information online, so you can copy the name from Python output to Google and search it up.\n",
        "3. Sometimes users aren't in the same time zone, so they could be active \"at night\"\n",
        "\n",
        "**It is much more important to have correctly labeled data than more data.**\n"
      ]
    },
    {
      "cell_type": "code",
      "metadata": {
        "id": "xN6imXJyjTgl",
        "colab": {
          "base_uri": "https://localhost:8080/",
          "height": 543,
          "referenced_widgets": [
            "ff156cdf3f3f4d53a47537b8189c1188",
            "85017a34152340179e42388b97f5904b",
            "f7cb68defb01483584b91eb2ded64207",
            "de1b473181034a3ea2df7738b5793dbc",
            "59946d64e1a34c488bd35a365a4e49e0",
            "d1c14bc1229f47b8be26bcd5b7307b67",
            "aab946fd4e8d4270ae9ed7b2f58b46a5",
            "24621b45871846ec9cd013270e14e4ff",
            "5c50a7eb4447467ca6b07b85205af62e",
            "1f26fc1762944803b5eef6e49c0f7e3b",
            "1bcb74bc012d409b91469c5258dc3219",
            "714645983a234f948b466244dee69ba0",
            "31be2e4654d94d7581201b74ddf9c1fa",
            "9b4365a004dd4caf81e7622d52b42e3b",
            "3d21f421178340a7a7a5bcbcab1b3181",
            "42109e5cfe0141589562e2ce2068f0dd",
            "b16a39bb3aee4cffbab30da34afd2ec6"
          ]
        },
        "outputId": "1066df7a-c220-4159-8339-2c8d55084f8c"
      },
      "source": [
        "suggest_user()\n",
        "display(label_df.tail(1))\n",
        "visualize_activity(user)\n",
        "display(HBox([bot_button, hum_button, bac_button]))"
      ],
      "execution_count": null,
      "outputs": [
        {
          "output_type": "display_data",
          "data": {
            "text/html": [
              "<div>\n",
              "<style scoped>\n",
              "    .dataframe tbody tr th:only-of-type {\n",
              "        vertical-align: middle;\n",
              "    }\n",
              "\n",
              "    .dataframe tbody tr th {\n",
              "        vertical-align: top;\n",
              "    }\n",
              "\n",
              "    .dataframe thead th {\n",
              "        text-align: right;\n",
              "    }\n",
              "</style>\n",
              "<table border=\"1\" class=\"dataframe\">\n",
              "  <thead>\n",
              "    <tr style=\"text-align: right;\">\n",
              "      <th></th>\n",
              "      <th>name</th>\n",
              "      <th>user</th>\n",
              "      <th>time</th>\n",
              "      <th>label</th>\n",
              "    </tr>\n",
              "  </thead>\n",
              "  <tbody>\n",
              "    <tr>\n",
              "      <th>23</th>\n",
              "      <td>alan</td>\n",
              "      <td>jonasgilbert</td>\n",
              "      <td>2020-11-01 00:36:28.432839</td>\n",
              "      <td>bot</td>\n",
              "    </tr>\n",
              "  </tbody>\n",
              "</table>\n",
              "</div>"
            ],
            "text/plain": [
              "    name          user                        time label\n",
              "23  alan  jonasgilbert  2020-11-01 00:36:28.432839   bot"
            ]
          },
          "metadata": {
            "tags": []
          }
        },
        {
          "output_type": "display_data",
          "data": {
            "application/vnd.google.colaboratory.intrinsic+json": {
              "type": "string"
            },
            "text/plain": [
              "'BACKTRACKED: DELETED USER LAST ENTERED'"
            ]
          },
          "metadata": {
            "tags": []
          }
        },
        {
          "output_type": "display_data",
          "data": {
            "application/vnd.google.colaboratory.intrinsic+json": {
              "type": "string"
            },
            "text/plain": [
              "'current user = nxzbf3fz4brb'"
            ]
          },
          "metadata": {
            "tags": []
          }
        },
        {
          "output_type": "display_data",
          "data": {
            "application/vnd.jupyter.widget-view+json": {
              "model_id": "42109e5cfe0141589562e2ce2068f0dd",
              "version_minor": 0,
              "version_major": 2
            },
            "text/plain": [
              "HBox(children=(Button(description='BOT', style=ButtonStyle()), Button(description='HUMAN', style=ButtonStyle()…"
            ]
          },
          "metadata": {
            "tags": []
          }
        },
        {
          "output_type": "display_data",
          "data": {
            "image/png": "[encoded data removed]",
            "text/plain": [
              "<Figure size 720x432 with 2 Axes>"
            ]
          },
          "metadata": {
            "tags": [],
            "needs_background": "light"
          }
        }
      ]
    },
    {
      "cell_type": "code",
      "metadata": {
        "id": "FzE8AOAWjVK-",
        "colab": {
          "base_uri": "https://localhost:8080/",
          "height": 355
        },
        "outputId": "7fff438c-f33c-4d98-fad2-930b685c711e"
      },
      "source": [
        "label_df.tail(10)"
      ],
      "execution_count": null,
      "outputs": [
        {
          "output_type": "execute_result",
          "data": {
            "text/html": [
              "<div>\n",
              "<style scoped>\n",
              "    .dataframe tbody tr th:only-of-type {\n",
              "        vertical-align: middle;\n",
              "    }\n",
              "\n",
              "    .dataframe tbody tr th {\n",
              "        vertical-align: top;\n",
              "    }\n",
              "\n",
              "    .dataframe thead th {\n",
              "        text-align: right;\n",
              "    }\n",
              "</style>\n",
              "<table border=\"1\" class=\"dataframe\">\n",
              "  <thead>\n",
              "    <tr style=\"text-align: right;\">\n",
              "      <th></th>\n",
              "      <th>name</th>\n",
              "      <th>user</th>\n",
              "      <th>time</th>\n",
              "      <th>label</th>\n",
              "    </tr>\n",
              "  </thead>\n",
              "  <tbody>\n",
              "    <tr>\n",
              "      <th>13</th>\n",
              "      <td>alan</td>\n",
              "      <td>ggzl52oalczi</td>\n",
              "      <td>2020-10-23 21:45:33.972489</td>\n",
              "      <td>bot</td>\n",
              "    </tr>\n",
              "    <tr>\n",
              "      <th>14</th>\n",
              "      <td>alan</td>\n",
              "      <td>mnemypndnhoi</td>\n",
              "      <td>2020-10-23 21:45:38.459392</td>\n",
              "      <td>bot</td>\n",
              "    </tr>\n",
              "    <tr>\n",
              "      <th>15</th>\n",
              "      <td>alan</td>\n",
              "      <td>broganalexis</td>\n",
              "      <td>2020-10-23 21:45:42.654385</td>\n",
              "      <td>bot</td>\n",
              "    </tr>\n",
              "    <tr>\n",
              "      <th>16</th>\n",
              "      <td>alan</td>\n",
              "      <td>3kt4brpbcs4f</td>\n",
              "      <td>2020-10-23 21:45:46.719310</td>\n",
              "      <td>bot</td>\n",
              "    </tr>\n",
              "    <tr>\n",
              "      <th>17</th>\n",
              "      <td>alan</td>\n",
              "      <td>kangabieosid</td>\n",
              "      <td>2020-10-23 21:47:52.735676</td>\n",
              "      <td>bot</td>\n",
              "    </tr>\n",
              "    <tr>\n",
              "      <th>18</th>\n",
              "      <td>alan</td>\n",
              "      <td>kzcjigswqx5g</td>\n",
              "      <td>2020-10-23 21:47:56.806619</td>\n",
              "      <td>bot</td>\n",
              "    </tr>\n",
              "    <tr>\n",
              "      <th>19</th>\n",
              "      <td>alan</td>\n",
              "      <td>hwiyeong1234</td>\n",
              "      <td>2020-10-23 21:48:26.024492</td>\n",
              "      <td>human</td>\n",
              "    </tr>\n",
              "    <tr>\n",
              "      <th>20</th>\n",
              "      <td>alan</td>\n",
              "      <td>x54hucxpjxnp</td>\n",
              "      <td>2020-10-23 21:48:51.875438</td>\n",
              "      <td>bot</td>\n",
              "    </tr>\n",
              "    <tr>\n",
              "      <th>21</th>\n",
              "      <td>alan</td>\n",
              "      <td>w2hfwswlfj5x</td>\n",
              "      <td>2020-10-23 21:52:25.328244</td>\n",
              "      <td>bot</td>\n",
              "    </tr>\n",
              "    <tr>\n",
              "      <th>22</th>\n",
              "      <td>alan</td>\n",
              "      <td>tduokll4tqy2</td>\n",
              "      <td>2020-10-27 23:39:21.421277</td>\n",
              "      <td>bot</td>\n",
              "    </tr>\n",
              "  </tbody>\n",
              "</table>\n",
              "</div>"
            ],
            "text/plain": [
              "    name          user                        time  label\n",
              "13  alan  ggzl52oalczi  2020-10-23 21:45:33.972489    bot\n",
              "14  alan  mnemypndnhoi  2020-10-23 21:45:38.459392    bot\n",
              "15  alan  broganalexis  2020-10-23 21:45:42.654385    bot\n",
              "16  alan  3kt4brpbcs4f  2020-10-23 21:45:46.719310    bot\n",
              "17  alan  kangabieosid  2020-10-23 21:47:52.735676    bot\n",
              "18  alan  kzcjigswqx5g  2020-10-23 21:47:56.806619    bot\n",
              "19  alan  hwiyeong1234  2020-10-23 21:48:26.024492  human\n",
              "20  alan  x54hucxpjxnp  2020-10-23 21:48:51.875438    bot\n",
              "21  alan  w2hfwswlfj5x  2020-10-23 21:52:25.328244    bot\n",
              "22  alan  tduokll4tqy2  2020-10-27 23:39:21.421277    bot"
            ]
          },
          "metadata": {
            "tags": []
          },
          "execution_count": 15
        }
      ]
    },
    {
      "cell_type": "markdown",
      "metadata": {
        "id": "0eLNlE0O62lf"
      },
      "source": [
        "# Important: Saving it to a `csv`.\n",
        "You can find the csv by searching `yourname_labeled.csv` in Google Drive. By next meeting, send the file to our Slack where we will combine it with other members."
      ]
    },
    {
      "cell_type": "code",
      "metadata": {
        "id": "cOZFQK1ejWLm"
      },
      "source": [
        "label_df.to_csv(csv_name, index=False, header=False)\n",
        "# FileLink(csv_name) ignore this"
      ],
      "execution_count": null,
      "outputs": []
    },
    {
      "cell_type": "code",
      "metadata": {
        "id": "I9Ax-zbTjjnE"
      },
      "source": [
        ""
      ],
      "execution_count": null,
      "outputs": []
    },
    {
      "cell_type": "code",
      "metadata": {
        "id": "KY7xBgKg0G7U"
      },
      "source": [
        ""
      ],
      "execution_count": null,
      "outputs": []
    },
    {
      "cell_type": "markdown",
      "metadata": {
        "id": "SRyqouq10IjH"
      },
      "source": [
        "Uploading DataFrame of User Feature Data"
      ]
    },
    {
      "cell_type": "code",
      "metadata": {
        "id": "SWVgrvRQ0HIX",
        "colab": {
          "base_uri": "https://localhost:8080/",
          "height": 456
        },
        "outputId": "52d21f01-ab4d-464e-f5f5-6b587353ac92"
      },
      "source": [
        "user_df = pd.read_csv('https://raw.githubusercontent.com/griffinbaum22/bot_detection/main/user_df')\n",
        "user_df"
      ],
      "execution_count": null,
      "outputs": [
        {
          "output_type": "execute_result",
          "data": {
            "text/html": [
              "<div>\n",
              "<style scoped>\n",
              "    .dataframe tbody tr th:only-of-type {\n",
              "        vertical-align: middle;\n",
              "    }\n",
              "\n",
              "    .dataframe tbody tr th {\n",
              "        vertical-align: top;\n",
              "    }\n",
              "\n",
              "    .dataframe thead th {\n",
              "        text-align: right;\n",
              "    }\n",
              "</style>\n",
              "<table border=\"1\" class=\"dataframe\">\n",
              "  <thead>\n",
              "    <tr style=\"text-align: right;\">\n",
              "      <th></th>\n",
              "      <th>Unnamed: 0</th>\n",
              "      <th>name</th>\n",
              "      <th>total_trxs</th>\n",
              "      <th>total_wins</th>\n",
              "      <th>win_ratio</th>\n",
              "      <th>total_bet</th>\n",
              "      <th>total_recieved</th>\n",
              "      <th>net_profit</th>\n",
              "      <th>days_active</th>\n",
              "      <th>unique_hrs_active</th>\n",
              "      <th>avg_hrs_active</th>\n",
              "      <th>avg_bet_size</th>\n",
              "    </tr>\n",
              "  </thead>\n",
              "  <tbody>\n",
              "    <tr>\n",
              "      <th>0</th>\n",
              "      <td>0</td>\n",
              "      <td>mehmetfatihu</td>\n",
              "      <td>1</td>\n",
              "      <td>0.0</td>\n",
              "      <td>0.000000</td>\n",
              "      <td>0.1000</td>\n",
              "      <td>0.000000</td>\n",
              "      <td>-0.100000</td>\n",
              "      <td>1</td>\n",
              "      <td>1</td>\n",
              "      <td>1.000000</td>\n",
              "      <td>0.100000</td>\n",
              "    </tr>\n",
              "    <tr>\n",
              "      <th>1</th>\n",
              "      <td>1</td>\n",
              "      <td>helloluyh123</td>\n",
              "      <td>1</td>\n",
              "      <td>1.0</td>\n",
              "      <td>1.000000</td>\n",
              "      <td>0.0001</td>\n",
              "      <td>0.000103</td>\n",
              "      <td>0.000003</td>\n",
              "      <td>1</td>\n",
              "      <td>1</td>\n",
              "      <td>1.000000</td>\n",
              "      <td>0.000100</td>\n",
              "    </tr>\n",
              "    <tr>\n",
              "      <th>2</th>\n",
              "      <td>2</td>\n",
              "      <td>prahuang5325</td>\n",
              "      <td>1</td>\n",
              "      <td>1.0</td>\n",
              "      <td>1.000000</td>\n",
              "      <td>0.1000</td>\n",
              "      <td>0.103100</td>\n",
              "      <td>0.003100</td>\n",
              "      <td>1</td>\n",
              "      <td>1</td>\n",
              "      <td>1.000000</td>\n",
              "      <td>0.100000</td>\n",
              "    </tr>\n",
              "    <tr>\n",
              "      <th>3</th>\n",
              "      <td>3</td>\n",
              "      <td>playeronetkn</td>\n",
              "      <td>1</td>\n",
              "      <td>0.0</td>\n",
              "      <td>0.000000</td>\n",
              "      <td>108.2898</td>\n",
              "      <td>0.000000</td>\n",
              "      <td>-108.289800</td>\n",
              "      <td>1</td>\n",
              "      <td>1</td>\n",
              "      <td>1.000000</td>\n",
              "      <td>108.289800</td>\n",
              "    </tr>\n",
              "    <tr>\n",
              "      <th>4</th>\n",
              "      <td>4</td>\n",
              "      <td>jxjdsidsijsk</td>\n",
              "      <td>1</td>\n",
              "      <td>0.0</td>\n",
              "      <td>0.000000</td>\n",
              "      <td>0.1000</td>\n",
              "      <td>0.000000</td>\n",
              "      <td>-0.100000</td>\n",
              "      <td>1</td>\n",
              "      <td>1</td>\n",
              "      <td>1.000000</td>\n",
              "      <td>0.100000</td>\n",
              "    </tr>\n",
              "    <tr>\n",
              "      <th>...</th>\n",
              "      <td>...</td>\n",
              "      <td>...</td>\n",
              "      <td>...</td>\n",
              "      <td>...</td>\n",
              "      <td>...</td>\n",
              "      <td>...</td>\n",
              "      <td>...</td>\n",
              "      <td>...</td>\n",
              "      <td>...</td>\n",
              "      <td>...</td>\n",
              "      <td>...</td>\n",
              "      <td>...</td>\n",
              "    </tr>\n",
              "    <tr>\n",
              "      <th>1652</th>\n",
              "      <td>1652</td>\n",
              "      <td>kaidenmatias</td>\n",
              "      <td>14179</td>\n",
              "      <td>13451.0</td>\n",
              "      <td>0.948656</td>\n",
              "      <td>4133.6000</td>\n",
              "      <td>4038.439800</td>\n",
              "      <td>-95.160200</td>\n",
              "      <td>31</td>\n",
              "      <td>24</td>\n",
              "      <td>9.967742</td>\n",
              "      <td>0.296863</td>\n",
              "    </tr>\n",
              "    <tr>\n",
              "      <th>1653</th>\n",
              "      <td>1653</td>\n",
              "      <td>thegrintsch1</td>\n",
              "      <td>14983</td>\n",
              "      <td>14259.0</td>\n",
              "      <td>0.951679</td>\n",
              "      <td>2856.3010</td>\n",
              "      <td>2810.120389</td>\n",
              "      <td>-46.180611</td>\n",
              "      <td>9</td>\n",
              "      <td>14</td>\n",
              "      <td>3.333333</td>\n",
              "      <td>0.258182</td>\n",
              "    </tr>\n",
              "    <tr>\n",
              "      <th>1654</th>\n",
              "      <td>1654</td>\n",
              "      <td>bimawen11111</td>\n",
              "      <td>17832</td>\n",
              "      <td>11701.0</td>\n",
              "      <td>0.656180</td>\n",
              "      <td>35752.7155</td>\n",
              "      <td>35801.692400</td>\n",
              "      <td>48.976900</td>\n",
              "      <td>11</td>\n",
              "      <td>23</td>\n",
              "      <td>13.454545</td>\n",
              "      <td>1.844233</td>\n",
              "    </tr>\n",
              "    <tr>\n",
              "      <th>1655</th>\n",
              "      <td>1655</td>\n",
              "      <td>eossuperplay</td>\n",
              "      <td>202279</td>\n",
              "      <td>192085.0</td>\n",
              "      <td>0.949604</td>\n",
              "      <td>33498.3000</td>\n",
              "      <td>32809.528100</td>\n",
              "      <td>-688.771900</td>\n",
              "      <td>31</td>\n",
              "      <td>24</td>\n",
              "      <td>22.451613</td>\n",
              "      <td>0.154505</td>\n",
              "    </tr>\n",
              "    <tr>\n",
              "      <th>1656</th>\n",
              "      <td>1656</td>\n",
              "      <td>nmslnmslnmsl</td>\n",
              "      <td>254893</td>\n",
              "      <td>242135.0</td>\n",
              "      <td>0.949948</td>\n",
              "      <td>39505.5000</td>\n",
              "      <td>38700.593300</td>\n",
              "      <td>-804.906700</td>\n",
              "      <td>31</td>\n",
              "      <td>24</td>\n",
              "      <td>23.967742</td>\n",
              "      <td>0.155866</td>\n",
              "    </tr>\n",
              "  </tbody>\n",
              "</table>\n",
              "<p>1657 rows × 12 columns</p>\n",
              "</div>"
            ],
            "text/plain": [
              "      Unnamed: 0          name  ...  avg_hrs_active  avg_bet_size\n",
              "0              0  mehmetfatihu  ...        1.000000      0.100000\n",
              "1              1  helloluyh123  ...        1.000000      0.000100\n",
              "2              2  prahuang5325  ...        1.000000      0.100000\n",
              "3              3  playeronetkn  ...        1.000000    108.289800\n",
              "4              4  jxjdsidsijsk  ...        1.000000      0.100000\n",
              "...          ...           ...  ...             ...           ...\n",
              "1652        1652  kaidenmatias  ...        9.967742      0.296863\n",
              "1653        1653  thegrintsch1  ...        3.333333      0.258182\n",
              "1654        1654  bimawen11111  ...       13.454545      1.844233\n",
              "1655        1655  eossuperplay  ...       22.451613      0.154505\n",
              "1656        1656  nmslnmslnmsl  ...       23.967742      0.155866\n",
              "\n",
              "[1657 rows x 12 columns]"
            ]
          },
          "metadata": {
            "tags": []
          },
          "execution_count": 7
        }
      ]
    },
    {
      "cell_type": "markdown",
      "metadata": {
        "id": "aWfRPPWy1QfW"
      },
      "source": [
        "Loading list of Obvious Bot Accounts (We don't need to manually label these users)"
      ]
    },
    {
      "cell_type": "code",
      "metadata": {
        "id": "o-sFhjzM1igx",
        "colab": {
          "base_uri": "https://localhost:8080/"
        },
        "outputId": "c38f7ac1-153f-4cef-e877-c122970dfb19"
      },
      "source": [
        "obvious_bots = pd.read_csv('https://raw.githubusercontent.com/griffinbaum22/bot_detection/main/obvious_bots').obvious_bots.values\n",
        "len(obvious_bots)"
      ],
      "execution_count": null,
      "outputs": [
        {
          "output_type": "execute_result",
          "data": {
            "text/plain": [
              "988"
            ]
          },
          "metadata": {
            "tags": []
          },
          "execution_count": 4
        }
      ]
    },
    {
      "cell_type": "code",
      "metadata": {
        "id": "I3UqaaLoafro"
      },
      "source": [
        ""
      ],
      "execution_count": null,
      "outputs": []
    }
  ]
}
