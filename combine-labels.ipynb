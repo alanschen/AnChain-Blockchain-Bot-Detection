{
 "cells": [
  {
   "cell_type": "markdown",
   "metadata": {},
   "source": [
    "# Label Combining Notebook\n",
    "This notebook is used to aggregate labels we have acquired, creating `csv` files that will later be used for training."
   ]
  },
  {
   "cell_type": "code",
   "execution_count": 1,
   "metadata": {},
   "outputs": [],
   "source": [
    "import pandas as pd\n",
    "import numpy as np\n",
    "import pickle\n",
    "import seaborn as sns\n",
    "import matplotlib.pyplot as plt\n",
    "from IPython.display import FileLink, FileLinks"
   ]
  },
  {
   "cell_type": "markdown",
   "metadata": {},
   "source": [
    "## 1. Combining Member Votes\n",
    "\n",
    "In this section, we create a member usage csv. We first combine our labels together into an aggregated DataFrame called `combined`."
   ]
  },
  {
   "cell_type": "code",
   "execution_count": 19,
   "metadata": {},
   "outputs": [
    {
     "data": {
      "text/html": [
       "<div>\n",
       "<style scoped>\n",
       "    .dataframe tbody tr th:only-of-type {\n",
       "        vertical-align: middle;\n",
       "    }\n",
       "\n",
       "    .dataframe tbody tr th {\n",
       "        vertical-align: top;\n",
       "    }\n",
       "\n",
       "    .dataframe thead th {\n",
       "        text-align: right;\n",
       "    }\n",
       "</style>\n",
       "<table border=\"1\" class=\"dataframe\">\n",
       "  <thead>\n",
       "    <tr style=\"text-align: right;\">\n",
       "      <th></th>\n",
       "      <th>name</th>\n",
       "      <th>user</th>\n",
       "      <th>time</th>\n",
       "      <th>label</th>\n",
       "    </tr>\n",
       "  </thead>\n",
       "  <tbody>\n",
       "    <tr>\n",
       "      <th>0</th>\n",
       "      <td>alan</td>\n",
       "      <td>jize12341234</td>\n",
       "      <td>2020-10-23 09:59:15.983797</td>\n",
       "      <td>bot</td>\n",
       "    </tr>\n",
       "    <tr>\n",
       "      <th>1</th>\n",
       "      <td>alan</td>\n",
       "      <td>jdkxmfe4nlnf</td>\n",
       "      <td>2020-10-23 09:59:19.198504</td>\n",
       "      <td>bot</td>\n",
       "    </tr>\n",
       "    <tr>\n",
       "      <th>2</th>\n",
       "      <td>alan</td>\n",
       "      <td>xvtlutpplkjc</td>\n",
       "      <td>2020-10-23 09:59:55.232620</td>\n",
       "      <td>bot</td>\n",
       "    </tr>\n",
       "    <tr>\n",
       "      <th>3</th>\n",
       "      <td>alan</td>\n",
       "      <td>lpqy1gmkj1gm</td>\n",
       "      <td>2020-10-23 09:59:58.821355</td>\n",
       "      <td>bot</td>\n",
       "    </tr>\n",
       "    <tr>\n",
       "      <th>4</th>\n",
       "      <td>alan</td>\n",
       "      <td>msxkq3syrpvm</td>\n",
       "      <td>2020-10-23 10:00:01.195864</td>\n",
       "      <td>bot</td>\n",
       "    </tr>\n",
       "    <tr>\n",
       "      <th>...</th>\n",
       "      <td>...</td>\n",
       "      <td>...</td>\n",
       "      <td>...</td>\n",
       "      <td>...</td>\n",
       "    </tr>\n",
       "    <tr>\n",
       "      <th>220</th>\n",
       "      <td>nidhi</td>\n",
       "      <td>4kacdb4cbsfx</td>\n",
       "      <td>2020-10-31 17:25:10.744070</td>\n",
       "      <td>bot</td>\n",
       "    </tr>\n",
       "    <tr>\n",
       "      <th>221</th>\n",
       "      <td>nidhi</td>\n",
       "      <td>beauterrence</td>\n",
       "      <td>2020-10-31 17:25:14.568657</td>\n",
       "      <td>bot</td>\n",
       "    </tr>\n",
       "    <tr>\n",
       "      <th>222</th>\n",
       "      <td>nidhi</td>\n",
       "      <td>bostonshrimp</td>\n",
       "      <td>2020-10-31 17:25:18.726917</td>\n",
       "      <td>human</td>\n",
       "    </tr>\n",
       "    <tr>\n",
       "      <th>223</th>\n",
       "      <td>nidhi</td>\n",
       "      <td>jaylannathan</td>\n",
       "      <td>2020-10-31 17:25:22.324606</td>\n",
       "      <td>bot</td>\n",
       "    </tr>\n",
       "    <tr>\n",
       "      <th>224</th>\n",
       "      <td>nidhi</td>\n",
       "      <td>liyunshao123</td>\n",
       "      <td>2020-10-31 17:25:35.875927</td>\n",
       "      <td>human</td>\n",
       "    </tr>\n",
       "  </tbody>\n",
       "</table>\n",
       "<p>731 rows × 4 columns</p>\n",
       "</div>"
      ],
      "text/plain": [
       "      name          user                        time  label\n",
       "0     alan  jize12341234  2020-10-23 09:59:15.983797    bot\n",
       "1     alan  jdkxmfe4nlnf  2020-10-23 09:59:19.198504    bot\n",
       "2     alan  xvtlutpplkjc  2020-10-23 09:59:55.232620    bot\n",
       "3     alan  lpqy1gmkj1gm  2020-10-23 09:59:58.821355    bot\n",
       "4     alan  msxkq3syrpvm  2020-10-23 10:00:01.195864    bot\n",
       "..     ...           ...                         ...    ...\n",
       "220  nidhi  4kacdb4cbsfx  2020-10-31 17:25:10.744070    bot\n",
       "221  nidhi  beauterrence  2020-10-31 17:25:14.568657    bot\n",
       "222  nidhi  bostonshrimp  2020-10-31 17:25:18.726917  human\n",
       "223  nidhi  jaylannathan  2020-10-31 17:25:22.324606    bot\n",
       "224  nidhi  liyunshao123  2020-10-31 17:25:35.875927  human\n",
       "\n",
       "[731 rows x 4 columns]"
      ]
     },
     "execution_count": 19,
     "metadata": {},
     "output_type": "execute_result"
    }
   ],
   "source": [
    "# files should include only first names of our team members\n",
    "files = ['alan', 'wish', 'nidhi']\n",
    "files = [f + '_labels.csv' for f in files]\n",
    "\n",
    "# read and append each table, assuming each entry is correctly written.\n",
    "combined = pd.read_csv(files[0], names=['name', 'user', 'time', 'label'])\n",
    "for file in files[1:]:\n",
    "    combined = combined.append(pd.read_csv(file, names=['name', 'user', 'time', 'label']))\n",
    "combined"
   ]
  },
  {
   "cell_type": "markdown",
   "metadata": {},
   "source": [
    "### Testing for Majority Votes \n"
   ]
  },
  {
   "cell_type": "code",
   "execution_count": 20,
   "metadata": {},
   "outputs": [
    {
     "data": {
      "text/html": [
       "<a href='team_labels.csv' target='_blank'>team_labels.csv</a><br>"
      ],
      "text/plain": [
       "/home/jovyan/ieor135/project/team_labels.csv"
      ]
     },
     "execution_count": 20,
     "metadata": {},
     "output_type": "execute_result"
    }
   ],
   "source": [
    "from combiner import majority_vote\n",
    "\n",
    "# testing majority vote function\n",
    "assert 'tied' == majority_vote(['bot', 'human']) \n",
    "assert 'human' == majority_vote(['human', 'human'])\n",
    "assert 'bot' == majority_vote(['bot', 'bot', 'human'])\n",
    "assert 'human' == majority_vote(['human', 'bot', 'human'])\n",
    "assert 'human' == majority_vote(['human'])\n",
    "assert 'bot' == majority_vote(['bot'])\n",
    "\n",
    "# aggregating by user labels\n",
    "csv_name = 'team_labels.csv'\n",
    "final = combined[['user', 'label']].groupby('user').agg(majority_vote)\n",
    "final['name'] = final.index\n",
    "final = final[['name', 'label']]\n",
    "\n",
    "# we drop any tied entry before writing into our final csv\n",
    "final = final[final['label'] != 'tied']\n",
    "final.to_csv(csv_name, index=False, header=False)\n",
    "FileLink(csv_name)"
   ]
  },
  {
   "cell_type": "markdown",
   "metadata": {},
   "source": [
    "## 2. Converting Researched Labels & Filtered Labels\n",
    "In this section, we generate research labels by dropping the entries which don't pertain to our data set"
   ]
  },
  {
   "cell_type": "code",
   "execution_count": 26,
   "metadata": {},
   "outputs": [
    {
     "data": {
      "text/html": [
       "<div>\n",
       "<style scoped>\n",
       "    .dataframe tbody tr th:only-of-type {\n",
       "        vertical-align: middle;\n",
       "    }\n",
       "\n",
       "    .dataframe tbody tr th {\n",
       "        vertical-align: top;\n",
       "    }\n",
       "\n",
       "    .dataframe thead th {\n",
       "        text-align: right;\n",
       "    }\n",
       "</style>\n",
       "<table border=\"1\" class=\"dataframe\">\n",
       "  <thead>\n",
       "    <tr style=\"text-align: right;\">\n",
       "      <th></th>\n",
       "      <th>name</th>\n",
       "      <th>reliable</th>\n",
       "    </tr>\n",
       "  </thead>\n",
       "  <tbody>\n",
       "    <tr>\n",
       "      <th>0</th>\n",
       "      <td>linhuoyaneos</td>\n",
       "      <td>bot</td>\n",
       "    </tr>\n",
       "    <tr>\n",
       "      <th>1</th>\n",
       "      <td>g44dambxhage</td>\n",
       "      <td>bot</td>\n",
       "    </tr>\n",
       "    <tr>\n",
       "      <th>2</th>\n",
       "      <td>gm2dkmjtguge</td>\n",
       "      <td>bot</td>\n",
       "    </tr>\n",
       "    <tr>\n",
       "      <th>3</th>\n",
       "      <td>haydsnbugage</td>\n",
       "      <td>bot</td>\n",
       "    </tr>\n",
       "    <tr>\n",
       "      <th>4</th>\n",
       "      <td>gnb4pxctxnes</td>\n",
       "      <td>human</td>\n",
       "    </tr>\n",
       "    <tr>\n",
       "      <th>...</th>\n",
       "      <td>...</td>\n",
       "      <td>...</td>\n",
       "    </tr>\n",
       "    <tr>\n",
       "      <th>293765</th>\n",
       "      <td>pbufsvyruirs</td>\n",
       "      <td>human</td>\n",
       "    </tr>\n",
       "    <tr>\n",
       "      <th>293766</th>\n",
       "      <td>haytaobwgmge</td>\n",
       "      <td>bot</td>\n",
       "    </tr>\n",
       "    <tr>\n",
       "      <th>293767</th>\n",
       "      <td>qu2hp3mx4mte</td>\n",
       "      <td>bot</td>\n",
       "    </tr>\n",
       "    <tr>\n",
       "      <th>293768</th>\n",
       "      <td>gm3tenbwgqge</td>\n",
       "      <td>bot</td>\n",
       "    </tr>\n",
       "    <tr>\n",
       "      <th>293769</th>\n",
       "      <td>mileableelse</td>\n",
       "      <td>human</td>\n",
       "    </tr>\n",
       "  </tbody>\n",
       "</table>\n",
       "<p>293770 rows × 2 columns</p>\n",
       "</div>"
      ],
      "text/plain": [
       "                name reliable\n",
       "0       linhuoyaneos      bot\n",
       "1       g44dambxhage      bot\n",
       "2       gm2dkmjtguge      bot\n",
       "3       haydsnbugage      bot\n",
       "4       gnb4pxctxnes    human\n",
       "...              ...      ...\n",
       "293765  pbufsvyruirs    human\n",
       "293766  haytaobwgmge      bot\n",
       "293767  qu2hp3mx4mte      bot\n",
       "293768  gm3tenbwgqge      bot\n",
       "293769  mileableelse    human\n",
       "\n",
       "[293770 rows x 2 columns]"
      ]
     },
     "execution_count": 26,
     "metadata": {},
     "output_type": "execute_result"
    }
   ],
   "source": [
    "from combiner import convert_label\n",
    "\n",
    "# these are the research labels we acquired from previous datasets\n",
    "research_labels = pickle.load(open(\"groundTruth.pkl\", \"rb\"))\n",
    "research_labels['reliable'] = research_labels['label'].apply(convert_label)\n",
    "research_labels = research_labels[['name', 'reliable']]\n",
    "research_labels"
   ]
  },
  {
   "cell_type": "code",
   "execution_count": 30,
   "metadata": {},
   "outputs": [
    {
     "data": {
      "text/plain": [
       "array(['nmslnmslnmsl', 'justiceariel', 'edgarwinston', ...,\n",
       "       'endlessdivdn', 'endlessoptex', 'innocentuser'], dtype=object)"
      ]
     },
     "execution_count": 30,
     "metadata": {},
     "output_type": "execute_result"
    }
   ],
   "source": [
    "temporal = pd.read_csv('temporal-only.csv', names=['user', 'time', 'weekday', 'hour'])\n",
    "temporal.head()"
   ]
  },
  {
   "cell_type": "code",
   "execution_count": 33,
   "metadata": {},
   "outputs": [
    {
     "data": {
      "text/html": [
       "<div>\n",
       "<style scoped>\n",
       "    .dataframe tbody tr th:only-of-type {\n",
       "        vertical-align: middle;\n",
       "    }\n",
       "\n",
       "    .dataframe tbody tr th {\n",
       "        vertical-align: top;\n",
       "    }\n",
       "\n",
       "    .dataframe thead th {\n",
       "        text-align: right;\n",
       "    }\n",
       "</style>\n",
       "<table border=\"1\" class=\"dataframe\">\n",
       "  <thead>\n",
       "    <tr style=\"text-align: right;\">\n",
       "      <th></th>\n",
       "      <th>name</th>\n",
       "      <th>reliable</th>\n",
       "    </tr>\n",
       "  </thead>\n",
       "  <tbody>\n",
       "    <tr>\n",
       "      <th>0</th>\n",
       "      <td>gu3dimzvguge</td>\n",
       "      <td>bot</td>\n",
       "    </tr>\n",
       "    <tr>\n",
       "      <th>1</th>\n",
       "      <td>g42tgmbshege</td>\n",
       "      <td>bot</td>\n",
       "    </tr>\n",
       "    <tr>\n",
       "      <th>2</th>\n",
       "      <td>jixiango3133</td>\n",
       "      <td>bot</td>\n",
       "    </tr>\n",
       "    <tr>\n",
       "      <th>3</th>\n",
       "      <td>guydknzsgege</td>\n",
       "      <td>bot</td>\n",
       "    </tr>\n",
       "    <tr>\n",
       "      <th>4</th>\n",
       "      <td>gyztqnjwg4ge</td>\n",
       "      <td>bot</td>\n",
       "    </tr>\n",
       "    <tr>\n",
       "      <th>...</th>\n",
       "      <td>...</td>\n",
       "      <td>...</td>\n",
       "    </tr>\n",
       "    <tr>\n",
       "      <th>1178</th>\n",
       "      <td>afd4ctrpcer1</td>\n",
       "      <td>bot</td>\n",
       "    </tr>\n",
       "    <tr>\n",
       "      <th>1179</th>\n",
       "      <td>beirwpuugtkm</td>\n",
       "      <td>bot</td>\n",
       "    </tr>\n",
       "    <tr>\n",
       "      <th>1180</th>\n",
       "      <td>ycdzhtpheges</td>\n",
       "      <td>bot</td>\n",
       "    </tr>\n",
       "    <tr>\n",
       "      <th>1181</th>\n",
       "      <td>4lp3gnxrbfyc</td>\n",
       "      <td>bot</td>\n",
       "    </tr>\n",
       "    <tr>\n",
       "      <th>1182</th>\n",
       "      <td>cuizhi123451</td>\n",
       "      <td>bot</td>\n",
       "    </tr>\n",
       "  </tbody>\n",
       "</table>\n",
       "<p>1183 rows × 2 columns</p>\n",
       "</div>"
      ],
      "text/plain": [
       "              name reliable\n",
       "0     gu3dimzvguge      bot\n",
       "1     g42tgmbshege      bot\n",
       "2     jixiango3133      bot\n",
       "3     guydknzsgege      bot\n",
       "4     gyztqnjwg4ge      bot\n",
       "...            ...      ...\n",
       "1178  afd4ctrpcer1      bot\n",
       "1179  beirwpuugtkm      bot\n",
       "1180  ycdzhtpheges      bot\n",
       "1181  4lp3gnxrbfyc      bot\n",
       "1182  cuizhi123451      bot\n",
       "\n",
       "[1183 rows x 2 columns]"
      ]
     },
     "execution_count": 33,
     "metadata": {},
     "output_type": "execute_result"
    }
   ],
   "source": [
    "researches = research_labels[research_labels['name'].isin(all_labels)].sort_values('reliable')\n",
    "researches\n",
    "obvious_bots = pd.read_csv('https://raw.githubusercontent.com/griffinbaum22/bot_detection/main/obvious_bots'\n",
    "                          ).obvious_bots.values\n",
    "reliables = researches.copy()\n",
    "for bot in obvious_bots:\n",
    "    reliables = reliables.append({'name': bot, 'reliable': 'bot'}, ignore_index=True)\n",
    "reliables"
   ]
  },
  {
   "cell_type": "code",
   "execution_count": 34,
   "metadata": {},
   "outputs": [
    {
     "data": {
      "text/html": [
       "<a href='reliable-labels.csv' target='_blank'>reliable-labels.csv</a><br>"
      ],
      "text/plain": [
       "/home/jovyan/ieor135/project/reliable-labels.csv"
      ]
     },
     "execution_count": 34,
     "metadata": {},
     "output_type": "execute_result"
    }
   ],
   "source": [
    "reliables.to_csv(\"reliable-labels.csv\", index=False, header=False)\n",
    "FileLink(\"reliable-labels.csv\")"
   ]
  },
  {
   "cell_type": "code",
   "execution_count": null,
   "metadata": {},
   "outputs": [],
   "source": []
  }
 ],
 "metadata": {
  "kernelspec": {
   "display_name": "Python 3",
   "language": "python",
   "name": "python3"
  },
  "language_info": {
   "codemirror_mode": {
    "name": "ipython",
    "version": 3
   },
   "file_extension": ".py",
   "mimetype": "text/x-python",
   "name": "python",
   "nbconvert_exporter": "python",
   "pygments_lexer": "ipython3",
   "version": "3.8.6"
  }
 },
 "nbformat": 4,
 "nbformat_minor": 4
}
